{
  "cells": [
    {
      "cell_type": "markdown",
      "metadata": {
        "id": "C5gZ-UY72KC0"
      },
      "source": [
        "### **At First we load our Required Libraries**"
      ]
    },
    {
      "cell_type": "markdown",
      "metadata": {
        "id": "mr5XmxlC2KC4"
      },
      "source": []
    },
    {
      "cell_type": "code",
      "execution_count": 1,
      "metadata": {
        "id": "Z53K1XjG2KC5"
      },
      "outputs": [],
      "source": [
        "import pandas as pd\n",
        "import matplotlib.pyplot as plt\n",
        "import chardet\n",
        "import seaborn as sns\n"
      ]
    },
    {
      "cell_type": "markdown",
      "metadata": {
        "id": "uHTtHeUt2KC6"
      },
      "source": [
        "#### **Load the Dataset**"
      ]
    },
    {
      "cell_type": "code",
      "execution_count": 2,
      "metadata": {
        "colab": {
          "base_uri": "https://localhost:8080/",
          "height": 469
        },
        "id": "wMZodqMX2KC8",
        "outputId": "ce1cf27a-f9e2-4c24-d9e5-44e6668ca25e"
      },
      "outputs": [
        {
          "data": {
            "text/html": [
              "<div>\n",
              "<style scoped>\n",
              "    .dataframe tbody tr th:only-of-type {\n",
              "        vertical-align: middle;\n",
              "    }\n",
              "\n",
              "    .dataframe tbody tr th {\n",
              "        vertical-align: top;\n",
              "    }\n",
              "\n",
              "    .dataframe thead th {\n",
              "        text-align: right;\n",
              "    }\n",
              "</style>\n",
              "<table border=\"1\" class=\"dataframe\">\n",
              "  <thead>\n",
              "    <tr style=\"text-align: right;\">\n",
              "      <th></th>\n",
              "      <th>Employment Captured Date</th>\n",
              "      <th>Person Full Name</th>\n",
              "      <th>Person First Name</th>\n",
              "      <th>Person Last Name</th>\n",
              "      <th>Person URL</th>\n",
              "      <th>Employment Title</th>\n",
              "      <th>Job Title Category</th>\n",
              "      <th>Employment Company Name</th>\n",
              "      <th>Employment Start Month</th>\n",
              "      <th>Employment Start Year</th>\n",
              "      <th>...</th>\n",
              "      <th>Company Details Size</th>\n",
              "      <th>Company Type</th>\n",
              "      <th>Location City</th>\n",
              "      <th>Location State</th>\n",
              "      <th>Location Country</th>\n",
              "      <th>Education Major</th>\n",
              "      <th>Education Subject</th>\n",
              "      <th>Education Degree</th>\n",
              "      <th>Education Start Date</th>\n",
              "      <th>Education End Date</th>\n",
              "    </tr>\n",
              "  </thead>\n",
              "  <tbody>\n",
              "    <tr>\n",
              "      <th>0</th>\n",
              "      <td>28/03/2023</td>\n",
              "      <td>Andi Dickmeyer</td>\n",
              "      <td>Andi</td>\n",
              "      <td>Dickmeyer</td>\n",
              "      <td>https://www.linkedin.com/in/andreadickmeyer</td>\n",
              "      <td>Provisional Psychologist</td>\n",
              "      <td>Doctor</td>\n",
              "      <td>NSW Health</td>\n",
              "      <td>2.0</td>\n",
              "      <td>2023</td>\n",
              "      <td>...</td>\n",
              "      <td>10001+ employees</td>\n",
              "      <td>Government Agency</td>\n",
              "      <td>Newcastle</td>\n",
              "      <td>New South Wales</td>\n",
              "      <td>Australia</td>\n",
              "      <td>NaN</td>\n",
              "      <td>Clinical Psychology</td>\n",
              "      <td>Master's Degree</td>\n",
              "      <td>NaN</td>\n",
              "      <td>2022</td>\n",
              "    </tr>\n",
              "    <tr>\n",
              "      <th>1</th>\n",
              "      <td>28/03/2023</td>\n",
              "      <td>Prudence Lawrence</td>\n",
              "      <td>Prudence</td>\n",
              "      <td>Lawrence</td>\n",
              "      <td>https://www.linkedin.com/in/prudencelawrence</td>\n",
              "      <td>Program Manager | Geospatial and Emerging Tech...</td>\n",
              "      <td>Manager</td>\n",
              "      <td>Australian Spatial Analytics</td>\n",
              "      <td>2.0</td>\n",
              "      <td>2023</td>\n",
              "      <td>...</td>\n",
              "      <td>501-1000 employees</td>\n",
              "      <td>Government Agency</td>\n",
              "      <td>Brisbane City</td>\n",
              "      <td>Queensland</td>\n",
              "      <td>Australia</td>\n",
              "      <td>Geographic Information Science and Cartography</td>\n",
              "      <td>Spatial Science</td>\n",
              "      <td>Bachelor's Degree</td>\n",
              "      <td>2021</td>\n",
              "      <td>2021</td>\n",
              "    </tr>\n",
              "    <tr>\n",
              "      <th>2</th>\n",
              "      <td>28/03/2023</td>\n",
              "      <td>Cassandra K. Bugir</td>\n",
              "      <td>Cassandra</td>\n",
              "      <td>Bugir</td>\n",
              "      <td>https://www.linkedin.com/in/cassandrabugir</td>\n",
              "      <td>Ecologist</td>\n",
              "      <td>Researcher</td>\n",
              "      <td>Kleinfelder Australia</td>\n",
              "      <td>4.0</td>\n",
              "      <td>2023</td>\n",
              "      <td>...</td>\n",
              "      <td>1001-5000 employees</td>\n",
              "      <td>Privately Held</td>\n",
              "      <td>Newcastle</td>\n",
              "      <td>New South Wales</td>\n",
              "      <td>Australia</td>\n",
              "      <td>Biology/Biological Sciences, General</td>\n",
              "      <td>Biology</td>\n",
              "      <td>PhD</td>\n",
              "      <td>2018</td>\n",
              "      <td>2021</td>\n",
              "    </tr>\n",
              "    <tr>\n",
              "      <th>3</th>\n",
              "      <td>28/03/2023</td>\n",
              "      <td>Lindsey (Clarkson) Jarvis</td>\n",
              "      <td>Lindsey</td>\n",
              "      <td>Jarvis</td>\n",
              "      <td>https://www.linkedin.com/in/lindsey-jarvis</td>\n",
              "      <td>CS Training Manager</td>\n",
              "      <td>Manager</td>\n",
              "      <td>Toast</td>\n",
              "      <td>3.0</td>\n",
              "      <td>2023</td>\n",
              "      <td>...</td>\n",
              "      <td>1001-5000 employees</td>\n",
              "      <td>Public Company</td>\n",
              "      <td>Summerville</td>\n",
              "      <td>South Carolina</td>\n",
              "      <td>USA</td>\n",
              "      <td>BBA</td>\n",
              "      <td>Business</td>\n",
              "      <td>Exchange Program from Overseas</td>\n",
              "      <td>2004</td>\n",
              "      <td>2004</td>\n",
              "    </tr>\n",
              "    <tr>\n",
              "      <th>4</th>\n",
              "      <td>13/04/2023</td>\n",
              "      <td>Nicola Howard</td>\n",
              "      <td>Nicola</td>\n",
              "      <td>Howard</td>\n",
              "      <td>https://www.linkedin.com/in/nicola-howard-9232...</td>\n",
              "      <td>Senior Administrative Assistant</td>\n",
              "      <td>Assistant</td>\n",
              "      <td>Government of British Columbia</td>\n",
              "      <td>3.0</td>\n",
              "      <td>2023</td>\n",
              "      <td>...</td>\n",
              "      <td>10001+ employees</td>\n",
              "      <td>Government Agency</td>\n",
              "      <td>Victoria</td>\n",
              "      <td>British Columbia</td>\n",
              "      <td>Canada</td>\n",
              "      <td>Museology/Museum Studies</td>\n",
              "      <td>Arts</td>\n",
              "      <td>Master's Degree</td>\n",
              "      <td>2011</td>\n",
              "      <td>2012</td>\n",
              "    </tr>\n",
              "  </tbody>\n",
              "</table>\n",
              "<p>5 rows × 21 columns</p>\n",
              "</div>"
            ],
            "text/plain": [
              "  Employment Captured Date           Person Full Name Person First Name  \\\n",
              "0               28/03/2023             Andi Dickmeyer              Andi   \n",
              "1               28/03/2023          Prudence Lawrence          Prudence   \n",
              "2               28/03/2023         Cassandra K. Bugir         Cassandra   \n",
              "3               28/03/2023  Lindsey (Clarkson) Jarvis           Lindsey   \n",
              "4               13/04/2023              Nicola Howard            Nicola   \n",
              "\n",
              "  Person Last Name                                         Person URL  \\\n",
              "0        Dickmeyer        https://www.linkedin.com/in/andreadickmeyer   \n",
              "1         Lawrence       https://www.linkedin.com/in/prudencelawrence   \n",
              "2            Bugir         https://www.linkedin.com/in/cassandrabugir   \n",
              "3           Jarvis         https://www.linkedin.com/in/lindsey-jarvis   \n",
              "4           Howard  https://www.linkedin.com/in/nicola-howard-9232...   \n",
              "\n",
              "                                    Employment Title Job Title Category  \\\n",
              "0                           Provisional Psychologist             Doctor   \n",
              "1  Program Manager | Geospatial and Emerging Tech...            Manager   \n",
              "2                                          Ecologist         Researcher   \n",
              "3                                CS Training Manager            Manager   \n",
              "4                    Senior Administrative Assistant          Assistant   \n",
              "\n",
              "          Employment Company Name  Employment Start Month  \\\n",
              "0                      NSW Health                     2.0   \n",
              "1    Australian Spatial Analytics                     2.0   \n",
              "2           Kleinfelder Australia                     4.0   \n",
              "3                           Toast                     3.0   \n",
              "4  Government of British Columbia                     3.0   \n",
              "\n",
              "   Employment Start Year  ... Company Details Size       Company Type  \\\n",
              "0                   2023  ...     10001+ employees  Government Agency   \n",
              "1                   2023  ...   501-1000 employees  Government Agency   \n",
              "2                   2023  ...  1001-5000 employees     Privately Held   \n",
              "3                   2023  ...  1001-5000 employees     Public Company   \n",
              "4                   2023  ...     10001+ employees  Government Agency   \n",
              "\n",
              "   Location City    Location State Location Country  \\\n",
              "0      Newcastle   New South Wales        Australia   \n",
              "1  Brisbane City        Queensland        Australia   \n",
              "2      Newcastle   New South Wales        Australia   \n",
              "3    Summerville    South Carolina              USA   \n",
              "4       Victoria  British Columbia           Canada   \n",
              "\n",
              "                                  Education Major    Education Subject  \\\n",
              "0                                             NaN  Clinical Psychology   \n",
              "1  Geographic Information Science and Cartography      Spatial Science   \n",
              "2            Biology/Biological Sciences, General              Biology   \n",
              "3                                             BBA             Business   \n",
              "4                        Museology/Museum Studies                 Arts   \n",
              "\n",
              "                 Education Degree Education Start Date Education End Date  \n",
              "0                 Master's Degree                  NaN               2022  \n",
              "1               Bachelor's Degree                 2021               2021  \n",
              "2                             PhD                 2018               2021  \n",
              "3  Exchange Program from Overseas                 2004               2004  \n",
              "4                 Master's Degree                 2011               2012  \n",
              "\n",
              "[5 rows x 21 columns]"
            ]
          },
          "execution_count": 2,
          "metadata": {},
          "output_type": "execute_result"
        }
      ],
      "source": [
        "df = pd.read_csv('../datasets/alumni_dataset.csv', encoding='latin1')\n",
        "##\n",
        "df.head()"
      ]
    },
    {
      "cell_type": "markdown",
      "metadata": {
        "id": "BFdQjofg2KC-"
      },
      "source": [
        "#### **These are the columns of our Dataset**"
      ]
    },
    {
      "cell_type": "code",
      "execution_count": 3,
      "metadata": {
        "colab": {
          "base_uri": "https://localhost:8080/"
        },
        "id": "mlJx9oyQ2KC_",
        "outputId": "d56a522e-9f4e-4b46-9daf-3bfef7bc7b3e"
      },
      "outputs": [
        {
          "data": {
            "text/plain": [
              "Index(['Employment Captured Date', 'Person Full Name', 'Person First Name',\n",
              "       'Person Last Name', 'Person URL', 'Employment Title',\n",
              "       'Job Title Category', 'Employment Company Name',\n",
              "       'Employment Start Month', 'Employment Start Year',\n",
              "       'Company Industry Name', 'Company Details Size', 'Company Type',\n",
              "       'Location City', 'Location State', 'Location Country',\n",
              "       'Education Major', 'Education Subject', 'Education Degree',\n",
              "       'Education Start Date', 'Education End Date'],\n",
              "      dtype='object')"
            ]
          },
          "execution_count": 3,
          "metadata": {},
          "output_type": "execute_result"
        }
      ],
      "source": [
        "df.columns"
      ]
    },
    {
      "cell_type": "code",
      "execution_count": 4,
      "metadata": {},
      "outputs": [],
      "source": [
        "# Filter rows where 'Education Subject' column is 'Business'\n",
        "df = df[df['Education Subject'] == 'Business']"
      ]
    },
    {
      "cell_type": "code",
      "execution_count": 25,
      "metadata": {},
      "outputs": [
        {
          "ename": "TypeError",
          "evalue": "'<' not supported between instances of 'float' and 'str'",
          "output_type": "error",
          "traceback": [
            "\u001b[0;31m---------------------------------------------------------------------------\u001b[0m",
            "\u001b[0;31mTypeError\u001b[0m                                 Traceback (most recent call last)",
            "\u001b[1;32m/media/mdrafsunsheikh/10784ce9-f796-443d-b973-fe6ae114c687/home/Study/QS_university_ranking_app/alumni_employability/codes/alumni_eda_2.ipynb Cell 9\u001b[0m line \u001b[0;36m2\n\u001b[1;32m      <a href='vscode-notebook-cell:/media/mdrafsunsheikh/10784ce9-f796-443d-b973-fe6ae114c687/home/Study/QS_university_ranking_app/alumni_employability/codes/alumni_eda_2.ipynb#Y243sZmlsZQ%3D%3D?line=0'>1</a>\u001b[0m unique_city \u001b[39m=\u001b[39m df[\u001b[39m'\u001b[39m\u001b[39mLocation City\u001b[39m\u001b[39m'\u001b[39m]\u001b[39m.\u001b[39munique()\n\u001b[0;32m----> <a href='vscode-notebook-cell:/media/mdrafsunsheikh/10784ce9-f796-443d-b973-fe6ae114c687/home/Study/QS_university_ranking_app/alumni_employability/codes/alumni_eda_2.ipynb#Y243sZmlsZQ%3D%3D?line=1'>2</a>\u001b[0m unique_city\u001b[39m.\u001b[39;49msort()\n\u001b[1;32m      <a href='vscode-notebook-cell:/media/mdrafsunsheikh/10784ce9-f796-443d-b973-fe6ae114c687/home/Study/QS_university_ranking_app/alumni_employability/codes/alumni_eda_2.ipynb#Y243sZmlsZQ%3D%3D?line=2'>3</a>\u001b[0m \u001b[39mprint\u001b[39m(\u001b[39mf\u001b[39m\u001b[39m\"\u001b[39m\u001b[39m{\u001b[39;00munique_city\u001b[39m}\u001b[39;00m\u001b[39m\"\u001b[39m)\n",
            "\u001b[0;31mTypeError\u001b[0m: '<' not supported between instances of 'float' and 'str'"
          ]
        }
      ],
      "source": [
        "unique_city = df['Location City'].unique()\n",
        "unique_city.sort()\n",
        "print(f\"{unique_city}\")"
      ]
    },
    {
      "cell_type": "code",
      "execution_count": 23,
      "metadata": {},
      "outputs": [
        {
          "name": "stdout",
          "output_type": "stream",
          "text": [
            "['Australia' 'Canada' 'China' 'Finland' 'India' 'Netherlands' 'Norway'\n",
            " 'Singapore' 'USA' 'United Arab Emirates' 'United Kingdom']\n"
          ]
        }
      ],
      "source": [
        "\n",
        "unique_country = df['Location Country'].unique()\n",
        "unique_country.sort()\n",
        "print(f\"{unique_country}\")"
      ]
    },
    {
      "cell_type": "code",
      "execution_count": 22,
      "metadata": {},
      "outputs": [
        {
          "name": "stdout",
          "output_type": "stream",
          "text": [
            "['Educational' 'Educational Institution' 'Government Agency' 'Non Profit'\n",
            " 'Nonprofit' 'Partnership' 'Privately Held' 'Public Company'\n",
            " 'Sole Proprietorship']\n"
          ]
        }
      ],
      "source": [
        "\n",
        "unique_type = df['Company Type'].unique()\n",
        "unique_type.sort()\n",
        "print(f\"{unique_type}\")"
      ]
    },
    {
      "cell_type": "code",
      "execution_count": 21,
      "metadata": {},
      "outputs": [
        {
          "name": "stdout",
          "output_type": "stream",
          "text": [
            "['1-10 employees' '10001+ employees' '1001-5000 employees'\n",
            " '11-50 employees' '2-10 employees' '201-500 employees'\n",
            " '5001-10000 employees' '501-1000 employees' '51-200 employees']\n"
          ]
        }
      ],
      "source": [
        "unique_size = df['Company Details Size'].unique()\n",
        "unique_size.sort()\n",
        "print(f\"{unique_size}\")"
      ]
    },
    {
      "cell_type": "code",
      "execution_count": 20,
      "metadata": {},
      "outputs": [
        {
          "name": "stdout",
          "output_type": "stream",
          "text": [
            "['Accounting' 'Banking' 'Building Materials'\n",
            " 'Business Consulting and Services' 'Chemicals' 'Computer Software'\n",
            " 'Construction' 'Consultation' 'Defense and Space Manufacturing'\n",
            " 'Design Services' 'Education' 'Education Management'\n",
            " 'Environmental Services' 'Financial Services'\n",
            " 'Food and Beverage Services' 'Government Administration'\n",
            " 'Health, Wellness and Fitness' 'Higher Education'\n",
            " 'Hospital & Health Care' 'Hospitality' 'Human Resources' 'IT Service'\n",
            " 'IT Services and IT Consulting' 'Industrial Machinery Manufacturing'\n",
            " 'Information Technology and Services' 'Insurance' 'Internet Publishing'\n",
            " 'Investment Management' 'Law Practice' 'Machinery'\n",
            " 'Machinery Manufacturing' 'Management Consulting'\n",
            " 'Marketing and Advertising' 'Mining' 'Mining & Metals'\n",
            " 'Museums and Institutions' 'Newspaper Publishing'\n",
            " 'Non-profit Organizations' 'Nonprofit Organization Management'\n",
            " 'Oil & Energy' 'Packaging and Containers' 'Pharmaceutical Manufacturing'\n",
            " 'Plastics' 'Primary/Secondary Education' 'Real Estate' 'Research'\n",
            " 'Research Services' 'Retail' 'Retail Apparel and Fashion'\n",
            " 'Software Development' 'Sports' 'Staffing and Recruiting'\n",
            " 'Telecommunications' 'Transportation/Trucking/Railroad' 'Utilities'\n",
            " 'steel and building materials manufacturer']\n"
          ]
        }
      ],
      "source": [
        "unique_industry = df['Company Industry Name'].unique()\n",
        "unique_industry.sort()\n",
        "print(f\"{unique_industry}\")"
      ]
    },
    {
      "cell_type": "code",
      "execution_count": 19,
      "metadata": {},
      "outputs": [
        {
          "name": "stdout",
          "output_type": "stream",
          "text": [
            "['ACN Pacific' 'ACT Education Directorate' 'ARTC' 'AVet Health Ltd'\n",
            " 'Advitech' 'Alcoa of Australia Limited' 'Alexandria Moulding'\n",
            " 'Andrew Sparks' 'AngloGold Ashanti'\n",
            " 'Australian College of Perioperative Nurses (ACORN)'\n",
            " 'Australian Digital Health Agency'\n",
            " 'Australian Doctors International (ADI)'\n",
            " 'Australian Government Department of Finance' 'Australian Museum'\n",
            " 'Australian Psychological Services' 'Australian Red Cross'\n",
            " 'Barnardos Australia' 'Bradken' 'CPS Technology & Infrastructure Pty Ltd'\n",
            " 'Campbelltown City Council' 'Catherine Henry Lawyers'\n",
            " 'Centre for Children and Young People'\n",
            " 'Chamberlain Brown Property Acquisitions' 'Citadel' 'City of Melbourne'\n",
            " 'CityFibre' 'CoAct' 'Commonwealth Bank' 'Defence Australia'\n",
            " 'Dolphins NRL' 'EXYTE U.S., INC.' 'Element Materials Technology'\n",
            " 'Emirates Steel Arkan' 'Employment Hero' 'Energy One Limited'\n",
            " 'Essential Energy' 'FT Consulting' 'Financial Times'\n",
            " 'Foresight Consulting' 'Forest Ave Outreach' 'Fortnum' 'GE HealthCare'\n",
            " 'GenesisCare' 'Glencore Australia' 'Goodstart Early Learning' 'Google'\n",
            " 'Hilton' 'Hollier Law' 'Inaburra School' 'InfoSecAssure'\n",
            " 'Innovations Academy' 'Insight IT & Engineering Recruitment'\n",
            " 'Iplex Pipelines' 'Iress' 'KPMG UK' 'La Trobe University'\n",
            " 'Larsen & Toubro' 'Loom Decor' 'Lumea' 'Macquarie University'\n",
            " 'Metso Outotec' 'Microsoft' 'Monash Health' 'NAB' 'NGH'\n",
            " 'NSW Department of Planning and Environment'\n",
            " 'National Acoustic Laboratories' 'National Disability Insurance Agency'\n",
            " 'Neuberger Berman' 'Nigel J Barling Pty Ltd'\n",
            " 'Novartis, Australia & New Zealand' 'Oak Hill Asset Management Inc'\n",
            " 'Onsite Rental Group' 'Orica' 'OsloMet storbyuniversitetet' 'PepsiCo'\n",
            " 'Principles for Responsible Investment' 'ProsperOps' 'PwC Australia'\n",
            " 'Queensland Health' 'Relocity, Inc.' 'Roche Group' 'Rugby India'\n",
            " 'SARA LEE HOLDINGS PTY. LTD' 'SPARC Group LLC'\n",
            " 'SW Accountants & Advisors' 'Samsara' 'Securus Consulting Group'\n",
            " 'Southern Alberta Institute of Technology (SAIT)'\n",
            " 'Southern Cross University' 'Tactix-Sener Group'\n",
            " 'The University of Sydney Business School' 'Toast'\n",
            " 'Torfaen County Borough Council' 'Town of Port Hedland' 'Travelex'\n",
            " 'TricorBraun' 'Tweddle Child and Family Health Service' 'UWV'\n",
            " 'Uniting Communities' 'University of Newcastle' 'Visy'\n",
            " 'Water Treatment Services' 'Wessex Water' 'Westpac' 'Westpac Group'\n",
            " 'Zenviron' 'iFin Advisory' 'icare NSW' 'nbn Australia']\n"
          ]
        }
      ],
      "source": [
        "unique_company = df['Employment Company Name'].unique()\n",
        "unique_company.sort()\n",
        "print(f\"{unique_company}\")"
      ]
    },
    {
      "cell_type": "code",
      "execution_count": 18,
      "metadata": {},
      "outputs": [
        {
          "name": "stdout",
          "output_type": "stream",
          "text": [
            "['A/g Assistant Director Workplace Relations' 'Acting Service Manager'\n",
            " 'Architectural Design Manager'\n",
            " 'Asia Treasurer & Singapore Country Manager'\n",
            " 'Assistant Director, Entry Level Program Management'\n",
            " 'Assistant Exhibitions Producer' 'Board Treasurer'\n",
            " 'Board member and Chair of the Audit and Risk Committee'\n",
            " 'Brand & Marketing Manager - Cardiology, Sleep & Respiratory Medicine'\n",
            " 'Business Analyst' 'Business Excellence and Improvement Lead'\n",
            " 'Business Specialist' 'CS Training Manager'\n",
            " 'Centre for Leadership Excellence Principal Consultant, Culture and Capability'\n",
            " 'Chief Customer Officer'\n",
            " 'Chief Responsible Investment and Signatory Relations Officer'\n",
            " 'Client Data Governance Lead' 'Client Sales Manager' 'Co-Founder'\n",
            " 'Communications Advisor (Marketing)' 'Consultant'\n",
            " 'Deputy Vice-Chancellor Future Growth' 'Design Manager - City Projects'\n",
            " 'Digital Marketing Coordinator' 'Digital Transformation Specialist'\n",
            " 'Director Corporate Communications' 'Director, Executive Education'\n",
            " 'Diversity and Inclusion Manager' 'Dual Brand Bank Manager'\n",
            " 'Engineering Project Manager' 'Environmental Support Technician'\n",
            " 'Executive Administration' 'Founder & Principal Lawyer'\n",
            " 'GM Sales & Marketing' 'GRC Consultant' 'General Manager'\n",
            " 'General Manager Asset Maintenance' 'Global Head of People & Culture'\n",
            " 'HR Solutions Specialist' 'HR Support Consultant'\n",
            " 'Head of Composites Program' 'Head of People and Governance'\n",
            " 'Head of Product, Partnerships & Customer Excellence - Australia & New Zealand'\n",
            " 'Human Resources Business Partner, Global Functions'\n",
            " 'Human Resources Director' 'Human Resources Manager'\n",
            " 'Independent Director' 'Interim Chief Executive Officer'\n",
            " 'Interim Corporate Services Director' 'Intermediate Consultant'\n",
            " 'Key Account Management' 'L&OD Lead'\n",
            " 'Learning and Transformation Partner' 'Lecturer/Course Coordinator'\n",
            " 'MBA Coordinator' 'Manager - IP and Technology & Innovation Governance'\n",
            " 'Manager - People Consulting, HR Transformation'\n",
            " 'Manager Contestable Network Solutions'\n",
            " 'Manager Learning and Development' 'Manager Sustainability'\n",
            " 'Manager, Line 1 Risk, IfNSW & HBCF' 'Managing Partner'\n",
            " 'Mandarin Language Teacher' 'Marketing Assistant'\n",
            " 'Marketing and Communications Manager' 'National MDU Operations Manager'\n",
            " 'National Risk Systems Lead' 'National Sales Manager (Interim)'\n",
            " 'Operations Analyst II' 'Operations Engineer (Marine Manager)'\n",
            " 'Outside Sales Representative' 'Packaging Consultant'\n",
            " 'Paraplanner and Research Officer' 'Partner' 'Planner'\n",
            " 'Planning and Delivery Specialist' 'Planning and Performance Manager'\n",
            " 'Practice Engagement & Growth Manager' 'Principal' 'Principal Analyst'\n",
            " 'Principal Psychologist' 'Product Designer' 'Product Manager'\n",
            " 'Product Owner [Via Capgemini]' 'Project Director' 'Project Manager'\n",
            " 'Project Manager - Sydney' 'Project Manager, Interoperability'\n",
            " 'Property Advisor' 'React Practice Lead' 'Recover@Work Partner'\n",
            " 'Relationship Manager - Commercial (Financial Markets)'\n",
            " 'Research Officer - ARC DECRA Project' 'SAED Project Manager'\n",
            " 'SAIT Business School Instructor' 'Safety Quality Environment Manager'\n",
            " 'Senior Associate' 'Senior Associate Consultant (Healthcare)'\n",
            " 'Senior Business Analyst, Enterprise & Strategic Data Technology'\n",
            " 'Senior Coast and Estuaries Officer'\n",
            " 'Senior Manager, Global Enterprise Marketing'\n",
            " 'Senior Marketing Executive, Audience Data' 'Senior Research Audiologist'\n",
            " 'Senior Software Engineer' 'Seniorrdgiver HR' 'Solicitor'\n",
            " 'Special Education Teacher (Mild/Moderate)'\n",
            " 'Staff Officer - US Requirements, Force Posture Initiatives'\n",
            " 'Strategic Coordinator' 'Supply Chain Finance Sr Manager - M&W'\n",
            " 'Systems Manager' 'technology program']\n"
          ]
        }
      ],
      "source": [
        "unique_title = df['Employment Title'].unique()\n",
        "unique_title.sort()\n",
        "print(f\"{unique_title}\")"
      ]
    },
    {
      "cell_type": "code",
      "execution_count": 5,
      "metadata": {},
      "outputs": [
        {
          "name": "stdout",
          "output_type": "stream",
          "text": [
            "<class 'pandas.core.frame.DataFrame'>\n",
            "Index: 116 entries, 3 to 840\n",
            "Data columns (total 21 columns):\n",
            " #   Column                    Non-Null Count  Dtype  \n",
            "---  ------                    --------------  -----  \n",
            " 0   Employment Captured Date  116 non-null    object \n",
            " 1   Person Full Name          116 non-null    object \n",
            " 2   Person First Name         116 non-null    object \n",
            " 3   Person Last Name          116 non-null    object \n",
            " 4   Person URL                116 non-null    object \n",
            " 5   Employment Title          116 non-null    object \n",
            " 6   Job Title Category        3 non-null      object \n",
            " 7   Employment Company Name   116 non-null    object \n",
            " 8   Employment Start Month    116 non-null    float64\n",
            " 9   Employment Start Year     116 non-null    int64  \n",
            " 10  Company Industry Name     116 non-null    object \n",
            " 11  Company Details Size      116 non-null    object \n",
            " 12  Company Type              116 non-null    object \n",
            " 13  Location City             106 non-null    object \n",
            " 14  Location State            106 non-null    object \n",
            " 15  Location Country          116 non-null    object \n",
            " 16  Education Major           116 non-null    object \n",
            " 17  Education Subject         116 non-null    object \n",
            " 18  Education Degree          116 non-null    object \n",
            " 19  Education Start Date      96 non-null     object \n",
            " 20  Education End Date        100 non-null    object \n",
            "dtypes: float64(1), int64(1), object(19)\n",
            "memory usage: 19.9+ KB\n"
          ]
        }
      ],
      "source": [
        "df.info()"
      ]
    },
    {
      "cell_type": "code",
      "execution_count": 6,
      "metadata": {},
      "outputs": [
        {
          "data": {
            "text/html": [
              "<div>\n",
              "<style scoped>\n",
              "    .dataframe tbody tr th:only-of-type {\n",
              "        vertical-align: middle;\n",
              "    }\n",
              "\n",
              "    .dataframe tbody tr th {\n",
              "        vertical-align: top;\n",
              "    }\n",
              "\n",
              "    .dataframe thead th {\n",
              "        text-align: right;\n",
              "    }\n",
              "</style>\n",
              "<table border=\"1\" class=\"dataframe\">\n",
              "  <thead>\n",
              "    <tr style=\"text-align: right;\">\n",
              "      <th></th>\n",
              "      <th>Employment Captured Date</th>\n",
              "      <th>Person Full Name</th>\n",
              "      <th>Person First Name</th>\n",
              "      <th>Person Last Name</th>\n",
              "      <th>Person URL</th>\n",
              "      <th>Employment Title</th>\n",
              "      <th>Job Title Category</th>\n",
              "      <th>Employment Company Name</th>\n",
              "      <th>Employment Start Month</th>\n",
              "      <th>Employment Start Year</th>\n",
              "      <th>...</th>\n",
              "      <th>Company Details Size</th>\n",
              "      <th>Company Type</th>\n",
              "      <th>Location City</th>\n",
              "      <th>Location State</th>\n",
              "      <th>Location Country</th>\n",
              "      <th>Education Major</th>\n",
              "      <th>Education Subject</th>\n",
              "      <th>Education Degree</th>\n",
              "      <th>Education Start Date</th>\n",
              "      <th>Education End Date</th>\n",
              "    </tr>\n",
              "  </thead>\n",
              "  <tbody>\n",
              "    <tr>\n",
              "      <th>3</th>\n",
              "      <td>28/03/2023</td>\n",
              "      <td>Lindsey (Clarkson) Jarvis</td>\n",
              "      <td>Lindsey</td>\n",
              "      <td>Jarvis</td>\n",
              "      <td>https://www.linkedin.com/in/lindsey-jarvis</td>\n",
              "      <td>CS Training Manager</td>\n",
              "      <td>Manager</td>\n",
              "      <td>Toast</td>\n",
              "      <td>3.0</td>\n",
              "      <td>2023</td>\n",
              "      <td>...</td>\n",
              "      <td>1001-5000 employees</td>\n",
              "      <td>Public Company</td>\n",
              "      <td>Summerville</td>\n",
              "      <td>South Carolina</td>\n",
              "      <td>USA</td>\n",
              "      <td>BBA</td>\n",
              "      <td>Business</td>\n",
              "      <td>Exchange Program from Overseas</td>\n",
              "      <td>2004</td>\n",
              "      <td>2004</td>\n",
              "    </tr>\n",
              "    <tr>\n",
              "      <th>8</th>\n",
              "      <td>28/03/2023</td>\n",
              "      <td>Molly Mckay</td>\n",
              "      <td>Molly</td>\n",
              "      <td>Mckay</td>\n",
              "      <td>https://www.linkedin.com/in/molly-mckay-3bb3bbb2</td>\n",
              "      <td>A/g Assistant Director Workplace Relations</td>\n",
              "      <td>Director</td>\n",
              "      <td>ACT Education Directorate</td>\n",
              "      <td>4.0</td>\n",
              "      <td>2023</td>\n",
              "      <td>...</td>\n",
              "      <td>5001-10000 employees</td>\n",
              "      <td>Government Agency</td>\n",
              "      <td>Canberra</td>\n",
              "      <td>Australian Capital Territory</td>\n",
              "      <td>Australia</td>\n",
              "      <td>Human Resources Management</td>\n",
              "      <td>Business</td>\n",
              "      <td>Master's Degree</td>\n",
              "      <td>2020</td>\n",
              "      <td>2023</td>\n",
              "    </tr>\n",
              "    <tr>\n",
              "      <th>15</th>\n",
              "      <td>28/03/2023</td>\n",
              "      <td>Tanja Blickfeldt Jârgensen</td>\n",
              "      <td>Tanja</td>\n",
              "      <td>Jârgensen</td>\n",
              "      <td>https://www.linkedin.com/in/tanjablickfeldt</td>\n",
              "      <td>Seniorrdgiver HR</td>\n",
              "      <td>Manager</td>\n",
              "      <td>OsloMet storbyuniversitetet</td>\n",
              "      <td>3.0</td>\n",
              "      <td>2023</td>\n",
              "      <td>...</td>\n",
              "      <td>1001-5000 employees</td>\n",
              "      <td>Educational Institution</td>\n",
              "      <td>Kristiansand</td>\n",
              "      <td>Agder</td>\n",
              "      <td>Norway</td>\n",
              "      <td>MBA</td>\n",
              "      <td>Business</td>\n",
              "      <td>Master's Degree</td>\n",
              "      <td>2002</td>\n",
              "      <td>2002</td>\n",
              "    </tr>\n",
              "    <tr>\n",
              "      <th>24</th>\n",
              "      <td>04/04/2023</td>\n",
              "      <td>Ellen Higginbottom</td>\n",
              "      <td>Ellen</td>\n",
              "      <td>Higginbottom</td>\n",
              "      <td>https://www.linkedin.com/in/ellen-higginbottom...</td>\n",
              "      <td>Solicitor</td>\n",
              "      <td>NaN</td>\n",
              "      <td>Catherine Henry Lawyers</td>\n",
              "      <td>6.0</td>\n",
              "      <td>2023</td>\n",
              "      <td>...</td>\n",
              "      <td>11-50 employees</td>\n",
              "      <td>Sole Proprietorship</td>\n",
              "      <td>Newcastle</td>\n",
              "      <td>New South Wales</td>\n",
              "      <td>Australia</td>\n",
              "      <td>BBA</td>\n",
              "      <td>Business</td>\n",
              "      <td>Bachelor's Degree</td>\n",
              "      <td>NaN</td>\n",
              "      <td>NaN</td>\n",
              "    </tr>\n",
              "    <tr>\n",
              "      <th>41</th>\n",
              "      <td>11/08/2023</td>\n",
              "      <td>Umit Agis</td>\n",
              "      <td>Umit</td>\n",
              "      <td>Agis</td>\n",
              "      <td>https://www.linkedin.com/in/umit-agis-gaicd-85...</td>\n",
              "      <td>Interim Chief Executive Officer</td>\n",
              "      <td>NaN</td>\n",
              "      <td>Tweddle Child and Family Health Service</td>\n",
              "      <td>6.0</td>\n",
              "      <td>2023</td>\n",
              "      <td>...</td>\n",
              "      <td>11-50 employees</td>\n",
              "      <td>Non Profit</td>\n",
              "      <td>Wantirna</td>\n",
              "      <td>Victoria</td>\n",
              "      <td>Australia</td>\n",
              "      <td>Business Administration and Management, General</td>\n",
              "      <td>Business</td>\n",
              "      <td>PhD</td>\n",
              "      <td>2011</td>\n",
              "      <td>2015</td>\n",
              "    </tr>\n",
              "  </tbody>\n",
              "</table>\n",
              "<p>5 rows × 21 columns</p>\n",
              "</div>"
            ],
            "text/plain": [
              "   Employment Captured Date              Person Full Name Person First Name  \\\n",
              "3                28/03/2023     Lindsey (Clarkson) Jarvis           Lindsey   \n",
              "8                28/03/2023                   Molly Mckay             Molly   \n",
              "15               28/03/2023  Tanja Blickfeldt Jârgensen             Tanja   \n",
              "24               04/04/2023            Ellen Higginbottom             Ellen   \n",
              "41               11/08/2023                     Umit Agis              Umit   \n",
              "\n",
              "   Person Last Name                                         Person URL  \\\n",
              "3            Jarvis         https://www.linkedin.com/in/lindsey-jarvis   \n",
              "8             Mckay   https://www.linkedin.com/in/molly-mckay-3bb3bbb2   \n",
              "15      Jârgensen        https://www.linkedin.com/in/tanjablickfeldt   \n",
              "24     Higginbottom  https://www.linkedin.com/in/ellen-higginbottom...   \n",
              "41             Agis  https://www.linkedin.com/in/umit-agis-gaicd-85...   \n",
              "\n",
              "                              Employment Title Job Title Category  \\\n",
              "3                          CS Training Manager            Manager   \n",
              "8   A/g Assistant Director Workplace Relations           Director   \n",
              "15                            Seniorrdgiver HR            Manager   \n",
              "24                                   Solicitor                NaN   \n",
              "41             Interim Chief Executive Officer                NaN   \n",
              "\n",
              "                    Employment Company Name  Employment Start Month  \\\n",
              "3                                     Toast                     3.0   \n",
              "8                 ACT Education Directorate                     4.0   \n",
              "15              OsloMet storbyuniversitetet                     3.0   \n",
              "24                  Catherine Henry Lawyers                     6.0   \n",
              "41  Tweddle Child and Family Health Service                     6.0   \n",
              "\n",
              "    Employment Start Year  ...  Company Details Size             Company Type  \\\n",
              "3                    2023  ...   1001-5000 employees           Public Company   \n",
              "8                    2023  ...  5001-10000 employees        Government Agency   \n",
              "15                   2023  ...   1001-5000 employees  Educational Institution   \n",
              "24                   2023  ...       11-50 employees      Sole Proprietorship   \n",
              "41                   2023  ...       11-50 employees               Non Profit   \n",
              "\n",
              "   Location City                Location State Location Country  \\\n",
              "3    Summerville                South Carolina              USA   \n",
              "8       Canberra  Australian Capital Territory        Australia   \n",
              "15  Kristiansand                         Agder           Norway   \n",
              "24     Newcastle               New South Wales        Australia   \n",
              "41      Wantirna                      Victoria        Australia   \n",
              "\n",
              "                                    Education Major Education Subject  \\\n",
              "3                                               BBA          Business   \n",
              "8                        Human Resources Management          Business   \n",
              "15                                              MBA          Business   \n",
              "24                                              BBA          Business   \n",
              "41  Business Administration and Management, General          Business   \n",
              "\n",
              "                  Education Degree Education Start Date Education End Date  \n",
              "3   Exchange Program from Overseas                 2004               2004  \n",
              "8                  Master's Degree                 2020               2023  \n",
              "15                 Master's Degree                 2002               2002  \n",
              "24               Bachelor's Degree                  NaN                NaN  \n",
              "41                             PhD                 2011               2015  \n",
              "\n",
              "[5 rows x 21 columns]"
            ]
          },
          "execution_count": 6,
          "metadata": {},
          "output_type": "execute_result"
        }
      ],
      "source": [
        "df.head()"
      ]
    },
    {
      "cell_type": "code",
      "execution_count": 7,
      "metadata": {},
      "outputs": [
        {
          "data": {
            "text/plain": [
              "array(['Software Development', 'Primary/Secondary Education',\n",
              "       'Higher Education', 'Law Practice', 'Hospital & Health Care',\n",
              "       'Chemicals', 'Business Consulting and Services',\n",
              "       'Defense and Space Manufacturing', 'IT Services and IT Consulting',\n",
              "       'Human Resources', 'Utilities', 'Banking', 'Telecommunications',\n",
              "       'Government Administration', 'Food and Beverage Services',\n",
              "       'Management Consulting', 'Nonprofit Organization Management',\n",
              "       'Research Services', 'Education Management', 'Construction',\n",
              "       'Education', 'Financial Services', 'Environmental Services',\n",
              "       'steel and building materials manufacturer',\n",
              "       'Transportation/Trucking/Railroad', 'Consultation',\n",
              "       'Mining & Metals', 'Newspaper Publishing', 'Mining',\n",
              "       'Marketing and Advertising', 'Hospitality', 'Retail', 'Research',\n",
              "       'Building Materials', 'Internet Publishing',\n",
              "       'Non-profit Organizations', 'Accounting',\n",
              "       'Museums and Institutions', 'Packaging and Containers',\n",
              "       'Computer Software', 'Machinery', 'Machinery Manufacturing',\n",
              "       'Information Technology and Services', 'Investment Management',\n",
              "       'Real Estate', 'Health, Wellness and Fitness',\n",
              "       'Pharmaceutical Manufacturing', 'Design Services', 'Sports',\n",
              "       'Oil & Energy', 'Retail Apparel and Fashion', 'Insurance',\n",
              "       'IT Service', 'Staffing and Recruiting', 'Plastics',\n",
              "       'Industrial Machinery Manufacturing'], dtype=object)"
            ]
          },
          "execution_count": 7,
          "metadata": {},
          "output_type": "execute_result"
        }
      ],
      "source": [
        "df['Company Industry Name'].unique()"
      ]
    },
    {
      "cell_type": "code",
      "execution_count": 8,
      "metadata": {},
      "outputs": [
        {
          "data": {
            "text/plain": [
              "array(['BBA', 'Human Resources Management', 'MBA',\n",
              "       'Business Administration and Management, General',\n",
              "       'Business, Management, Marketing, and Related Support Services',\n",
              "       'Business Psychology', 'Business Administration Marketing',\n",
              "       'International Business, Sociology, Philosophy',\n",
              "       'International Business', 'Business and Environmental Managment',\n",
              "       'Environmental and Business Management',\n",
              "       'Marketing and Management', 'Industrial Relations',\n",
              "       'Marketing and International Business',\n",
              "       'Business Economics and Marketing', 'Strategic Management',\n",
              "       'Marketing, Public Relations',\n",
              "       'Information Technology and International Business',\n",
              "       'Business Economics with Marketing and Psychology',\n",
              "       'Business Management', 'Human Resource Management',\n",
              "       'Graduate Certificate',\n",
              "       'Accounting, Finance, & International Business',\n",
              "       'International Business and Management',\n",
              "       'Business/Commerce, General', 'Marketing & Management',\n",
              "       'Environment and Business',\n",
              "       'Business Administration and Management',\n",
              "       'Doctor of Business Administration', 'International Busienss',\n",
              "       'Entrepreneurship/Entrepreneurial Studies'], dtype=object)"
            ]
          },
          "execution_count": 8,
          "metadata": {},
          "output_type": "execute_result"
        }
      ],
      "source": [
        "df['Education Major'].unique()"
      ]
    },
    {
      "cell_type": "code",
      "execution_count": 79,
      "metadata": {},
      "outputs": [
        {
          "data": {
            "text/plain": [
              "array(['Summerville', 'Canberra', 'Kristiansand', 'Newcastle', 'Wantirna',\n",
              "       'Sydney', 'Brisbane', 'Waratah', 'Bristol', 'Newland', 'Pontypool',\n",
              "       'New York City Metropolitan Area', 'Cecil St', 'Des Moines',\n",
              "       'Melbourne', 'Kirrawee', 'Braemar', 'Mumbai', 'North Mackay',\n",
              "       'Brooklyn', 'Newcastle East', 'Dubai', 'Gracetown', 'Perth',\n",
              "       'Forresters Beach', \"Saint Paul's\", nan, 'Ulan', 'Washington',\n",
              "       'Columbia', 'Gold Coast', 'Helsinki', 'Del Mar',\n",
              "       'Minneapolis-St. Paul', 'Sunshine Coast', 'Olympia', 'Austin',\n",
              "       'Nambucca Heads', 'Glasgow', 'London', 'Central Coast',\n",
              "       'South Hobart', 'Halls Head', 'The Junction', 'Toronto', 'Lithgow',\n",
              "       'Port Macquarie', 'Erskineville', 'New York', 'Charlotte',\n",
              "       'Gosford', 'Manchester', 'Adelaide', 'The Randstad',\n",
              "       'San Francisco', 'Edinburgh'], dtype=object)"
            ]
          },
          "execution_count": 79,
          "metadata": {},
          "output_type": "execute_result"
        }
      ],
      "source": [
        "df['Location City'].unique()"
      ]
    },
    {
      "cell_type": "code",
      "execution_count": 80,
      "metadata": {},
      "outputs": [
        {
          "data": {
            "text/plain": [
              "array(['USA', 'Australia', 'Norway', 'United Kingdom', 'Singapore',\n",
              "       'India', 'United Arab Emirates', 'Finland', 'Canada', 'China',\n",
              "       'Netherlands'], dtype=object)"
            ]
          },
          "execution_count": 80,
          "metadata": {},
          "output_type": "execute_result"
        }
      ],
      "source": [
        "df['Location Country'].unique()"
      ]
    },
    {
      "cell_type": "code",
      "execution_count": 81,
      "metadata": {},
      "outputs": [
        {
          "data": {
            "text/plain": [
              "array(['South Carolina', 'Australian Capital Territory', 'Agder',\n",
              "       'New South Wales', 'Victoria', 'Queensland', 'England', 'Wales',\n",
              "       nan, 'The Globe', 'Iowa', 'Maharashtra', 'New York', 'Dubai',\n",
              "       'Western Australia', 'District of Columbia', 'Uusimaa',\n",
              "       'California', 'Minnesota', 'Washington', 'Texas', 'Tasmania',\n",
              "       'Ontario', 'Hong Kong', 'North Carolina', 'South Australia',\n",
              "       'Scotland'], dtype=object)"
            ]
          },
          "execution_count": 81,
          "metadata": {},
          "output_type": "execute_result"
        }
      ],
      "source": [
        "df['Location State'].unique()"
      ]
    },
    {
      "cell_type": "markdown",
      "metadata": {
        "id": "0nAePoF-2KDB"
      },
      "source": [
        "## **Descriptive Analysis**"
      ]
    },
    {
      "cell_type": "markdown",
      "metadata": {
        "id": "wB650F1o2KDC"
      },
      "source": [
        "### **Education Degree**"
      ]
    },
    {
      "cell_type": "markdown",
      "metadata": {
        "id": "WTm5O4ba2KDD"
      },
      "source": [
        "#### Alumni Count by Education Degree"
      ]
    },
    {
      "cell_type": "code",
      "execution_count": null,
      "metadata": {
        "colab": {
          "base_uri": "https://localhost:8080/",
          "height": 807
        },
        "id": "PQ4tP8F62KDE",
        "outputId": "e544c11f-5c21-4845-efb0-fd0fa048c877"
      },
      "outputs": [],
      "source": [
        "# # Assuming 'df' is your DataFrame with the alumni data\n",
        "\n",
        "# plt.figure(figsize=(10,6))\n",
        "\n",
        "# df['Education Degree'].value_counts().plot(kind='bar')\n",
        "# plt.xlabel('Education Degree')\n",
        "# plt.ylabel('Count')\n",
        "# plt.title('Alumni Count by Education Degree')\n",
        "# plt.show()\n",
        "\n",
        "import matplotlib.pyplot as plt\n",
        "\n",
        "plt.figure(figsize=(10, 8))\n",
        "\n",
        "# Get the value counts\n",
        "value_counts = df['Education Major'].value_counts().head(15)\n",
        "\n",
        "# Calculate the total count\n",
        "total_count = value_counts.sum()\n",
        "\n",
        "# Calculate percentages\n",
        "percentages = (value_counts / total_count) * 100\n",
        "\n",
        "# Plot the bar chart\n",
        "ax = value_counts.plot(kind='bar')\n",
        "\n",
        "# Add count and percentage labels above each bar in vertical alignment\n",
        "for i, (count, percentage) in enumerate(zip(value_counts, percentages)):\n",
        "    plt.text(i, count + 1, f\"{count}({percentage:.2f}%)\", ha='center', va='bottom')\n",
        "    # plt.text(i, count - 3, f\"({percentage:.2f}%)\", ha='center', va='top', rotation=90)\n",
        "\n",
        "# Set labels and title\n",
        "plt.xlabel('Education Major')\n",
        "plt.ylabel('Count')\n",
        "plt.title('Alumni Count and Percentage by Education Major')\n",
        "\n",
        "# Add description at the top right corner\n",
        "description = \"This chart displays the count and percentage of alumni by education Degree.\"\n",
        "plt.text(0.85, 0.95, description, transform=ax.transAxes, fontsize=10, ha='right', va='top')\n",
        "\n",
        "# Show the chart\n",
        "plt.tight_layout()  # Ensure the labels fit within the figure\n",
        "plt.show()\n"
      ]
    },
    {
      "cell_type": "markdown",
      "metadata": {
        "id": "7KuhiXEu2KDF"
      },
      "source": [
        "#### Percentage of Education Degree"
      ]
    },
    {
      "cell_type": "code",
      "execution_count": null,
      "metadata": {
        "colab": {
          "base_uri": "https://localhost:8080/",
          "height": 829
        },
        "id": "iUxatQ2w2KDG",
        "outputId": "d2fff363-9b05-4184-e6e1-c4e4fdf86a48"
      },
      "outputs": [],
      "source": [
        "# Replace 'Education Degree' with the column name you want to use\n",
        "column_name = 'Education Major'\n",
        "\n",
        "# Count the occurrences of each unique value in the specified column\n",
        "value_counts = df[column_name].value_counts().head(5)\n",
        "\n",
        "# Create a pie chart\n",
        "plt.figure(figsize=(10,10))\n",
        "plt.pie(value_counts, labels=value_counts.index, autopct='%1.1f%%', startangle=140)\n",
        "\n",
        "# Add a title\n",
        "plt.title('Distribution of Alumni by Education Degree')\n",
        "\n",
        "# Display the chart\n",
        "plt.axis('equal')\n",
        "plt.show()"
      ]
    },
    {
      "cell_type": "markdown",
      "metadata": {
        "id": "5DH6r0nJ2KDH"
      },
      "source": [
        "#### Alumni Count by Education Major"
      ]
    },
    {
      "cell_type": "code",
      "execution_count": null,
      "metadata": {
        "colab": {
          "base_uri": "https://localhost:8080/",
          "height": 807
        },
        "id": "MNvTyzyL-QfZ",
        "outputId": "5d1e6fe5-b0b6-4ae1-dd64-f1f73747b5af"
      },
      "outputs": [],
      "source": [
        "import matplotlib.pyplot as plt\n",
        "\n",
        "plt.figure(figsize=(10, 8))\n",
        "\n",
        "# Get the value counts\n",
        "value_counts = df['Education Degree'].value_counts().head(15)\n",
        "\n",
        "# Calculate the total count\n",
        "total_count = 843\n",
        "\n",
        "# Calculate percentages\n",
        "percentages = (value_counts / total_count) * 100\n",
        "\n",
        "# Plot the bar chart\n",
        "ax = value_counts.plot(kind='bar')\n",
        "\n",
        "# Add count and percentage labels above each bar in vertical alignment\n",
        "for i, (count, percentage) in enumerate(zip(value_counts, percentages)):\n",
        "    plt.text(i, count + 1, f\"{count}\", ha='center', va='bottom')\n",
        "    plt.text(i, count - 3, f\"({percentage:.2f}%)\", ha='center', va='top', rotation=90)\n",
        "\n",
        "# Set labels and title\n",
        "plt.xlabel('Education Subject')\n",
        "plt.ylabel('Count')\n",
        "plt.title('Alumni Count and Percentage by Education Subject')\n",
        "\n",
        "# Add description at the top right corner\n",
        "# description = \"This chart displays the count and percentage of alumni by education subject.\"\n",
        "# plt.text(0.85, 0.95, description, transform=ax.transAxes, fontsize=10, ha='right', va='top')\n",
        "\n",
        "# Show the chart\n",
        "plt.tight_layout()  # Ensure the labels fit within the figure\n",
        "plt.show()\n"
      ]
    },
    {
      "cell_type": "markdown",
      "metadata": {
        "id": "zqDFBKBq2KDI"
      },
      "source": [
        "#### Percentage of Education Major"
      ]
    },
    {
      "cell_type": "code",
      "execution_count": null,
      "metadata": {
        "colab": {
          "base_uri": "https://localhost:8080/",
          "height": 829
        },
        "id": "L31iJ6L62KDJ",
        "outputId": "f3c90b18-1b4b-4583-bd3b-22dfa1936ed6"
      },
      "outputs": [],
      "source": [
        "# Replace 'Education Degree' with the column name you want to use\n",
        "column_name = 'Education Degree'\n",
        "\n",
        "# Count the occurrences of each unique value in the specified column\n",
        "value_counts = df[column_name].value_counts().head(10)\n",
        "\n",
        "# Create a pie chart\n",
        "plt.figure(figsize=(10,10))\n",
        "plt.pie(value_counts, labels=value_counts.index, autopct='%1.1f%%', startangle=140)\n",
        "\n",
        "# Add a title\n",
        "plt.title('Distribution of Alumni by Education Subject')\n",
        "\n",
        "# Display the chart\n",
        "plt.axis('equal')\n",
        "plt.show()"
      ]
    },
    {
      "cell_type": "markdown",
      "metadata": {
        "id": "38FOEMQw2KDJ"
      },
      "source": [
        "#### Alumni Count by Location Country"
      ]
    },
    {
      "cell_type": "code",
      "execution_count": null,
      "metadata": {
        "colab": {
          "base_uri": "https://localhost:8080/",
          "height": 807
        },
        "id": "xrvGTRxQ2KDK",
        "outputId": "b399481d-041c-456e-a332-33ea0766019c"
      },
      "outputs": [],
      "source": [
        "import matplotlib.pyplot as plt\n",
        "\n",
        "plt.figure(figsize=(10, 8))\n",
        "\n",
        "# Get the value counts\n",
        "value_counts = df['Location Country'].value_counts().head(10)\n",
        "\n",
        "# Calculate the total count\n",
        "total_count = 843\n",
        "\n",
        "# Calculate percentages\n",
        "percentages = (value_counts / total_count) * 100\n",
        "\n",
        "# Plot the bar chart\n",
        "ax = value_counts.plot(kind='bar')\n",
        "\n",
        "# Add count and percentage labels above each bar in vertical alignment\n",
        "for i, (count, percentage) in enumerate(zip(value_counts, percentages)):\n",
        "    plt.text(i, count + 1, f\"{count}({percentage:.2f}%)\", ha='center', va='bottom')\n",
        "    # plt.text(i, count - 3, f\"({percentage:.2f}%)\", ha='center', va='top', rotation=90)\n",
        "\n",
        "# Set labels and title\n",
        "plt.xlabel('Location Country')\n",
        "plt.ylabel('Count')\n",
        "plt.title('Alumni Count and Percentage by Location Country')\n",
        "\n",
        "# Add description at the top right corner\n",
        "# description = \"This chart displays the count and percentage of alumni by Location Country.\"\n",
        "# plt.text(0.85, 0.95, description, transform=ax.transAxes, fontsize=10, ha='right', va='top')\n",
        "\n",
        "# Show the chart\n",
        "plt.tight_layout()  # Ensure the labels fit within the figure\n",
        "plt.show()\n"
      ]
    },
    {
      "cell_type": "markdown",
      "metadata": {
        "id": "q0BH4mn52KDL"
      },
      "source": [
        "#### Distribution of Alumni by Location Country"
      ]
    },
    {
      "cell_type": "code",
      "execution_count": null,
      "metadata": {
        "colab": {
          "base_uri": "https://localhost:8080/",
          "height": 838
        },
        "id": "1efMyXr72KDL",
        "outputId": "bad878d0-01b2-49a3-ed47-15f01830ba37"
      },
      "outputs": [],
      "source": [
        "# Replace 'Education Degree' with the column name you want to use\n",
        "column_name = 'Location Country'\n",
        "\n",
        "# Count the occurrences of each unique value in the specified column\n",
        "value_counts = df[column_name].value_counts().head(5)\n",
        "\n",
        "# Create a pie chart\n",
        "plt.figure(figsize=(10,10))\n",
        "plt.pie(value_counts, labels=value_counts.index, autopct='%1.1f%%', startangle=140)\n",
        "\n",
        "# Add a title\n",
        "plt.title('Distribution of Alumni by Location Country')\n",
        "\n",
        "# Display the chart\n",
        "plt.axis('equal')\n",
        "plt.show()"
      ]
    },
    {
      "cell_type": "markdown",
      "metadata": {
        "id": "0ZM0U7Ia2KDL"
      },
      "source": [
        "#### Alumni Count by Location State"
      ]
    },
    {
      "cell_type": "code",
      "execution_count": null,
      "metadata": {
        "colab": {
          "base_uri": "https://localhost:8080/",
          "height": 807
        },
        "id": "62dtTbSR2KDM",
        "outputId": "660c3ae3-fc98-4d43-e23a-09df9241ba6d"
      },
      "outputs": [],
      "source": [
        "\n",
        "import matplotlib.pyplot as plt\n",
        "\n",
        "plt.figure(figsize=(10, 8))\n",
        "\n",
        "# Get the value counts\n",
        "value_counts = df['Location State'].value_counts().head(10)\n",
        "\n",
        "# Calculate the total count\n",
        "total_count = 843\n",
        "\n",
        "# Calculate percentages\n",
        "percentages = (value_counts / total_count) * 100\n",
        "\n",
        "# Plot the bar chart\n",
        "ax = value_counts.plot(kind='bar')\n",
        "\n",
        "# Add count and percentage labels above each bar in vertical alignment\n",
        "for i, (count, percentage) in enumerate(zip(value_counts, percentages)):\n",
        "    plt.text(i, count + 1, f\"{count}({percentage:.2f}%)\", ha='center', va='bottom')\n",
        "    # plt.text(i, count - 3, f\"({percentage:.2f}%)\", ha='center', va='top', rotation=90)\n",
        "\n",
        "# Set labels and title\n",
        "plt.xlabel('Location State')\n",
        "plt.ylabel('Count')\n",
        "plt.title('Alumni Count and Percentage by Location State')\n",
        "\n",
        "# Add description at the top right corner\n",
        "# description = \"This chart displays the count and percentage of alumni by Location State.\"\n",
        "# plt.text(0.85, 0.95, description, transform=ax.transAxes, fontsize=10, ha='right', va='top')\n",
        "\n",
        "# Show the chart\n",
        "plt.tight_layout()  # Ensure the labels fit within the figure\n",
        "plt.show()\n"
      ]
    },
    {
      "cell_type": "markdown",
      "metadata": {
        "id": "Tk2IMl4m2KDN"
      },
      "source": [
        "#### Distribution of Alumni by Location State"
      ]
    },
    {
      "cell_type": "code",
      "execution_count": null,
      "metadata": {
        "colab": {
          "base_uri": "https://localhost:8080/",
          "height": 829
        },
        "id": "6mq1tW7P2KDN",
        "outputId": "8126bcc5-add0-4620-aa22-c1a86089cb02"
      },
      "outputs": [],
      "source": [
        "# Replace 'Education Degree' with the column name you want to use\n",
        "column_name = 'Location State'\n",
        "\n",
        "# Count the occurrences of each unique value in the specified column\n",
        "value_counts = df[column_name].value_counts().head(8)\n",
        "\n",
        "# Create a pie chart\n",
        "plt.figure(figsize=(10,10))\n",
        "plt.pie(value_counts, labels=value_counts.index, autopct='%1.1f%%', startangle=140)\n",
        "\n",
        "# Add a title\n",
        "plt.title('Distribution of Alumni by Location State')\n",
        "\n",
        "# Display the chart\n",
        "plt.axis('equal')\n",
        "plt.show()"
      ]
    },
    {
      "cell_type": "markdown",
      "metadata": {
        "id": "D5aROQZO2KDO"
      },
      "source": [
        "#### Alumni Count by Location City"
      ]
    },
    {
      "cell_type": "code",
      "execution_count": null,
      "metadata": {
        "colab": {
          "base_uri": "https://localhost:8080/",
          "height": 807
        },
        "id": "ED_rpwZa2KDP",
        "outputId": "d18415f8-b319-426e-f619-3ecd31d8b934"
      },
      "outputs": [],
      "source": [
        "import matplotlib.pyplot as plt\n",
        "\n",
        "plt.figure(figsize=(10, 8))\n",
        "\n",
        "# Get the value counts\n",
        "value_counts = df['Location City'].value_counts().head(10)\n",
        "\n",
        "# Calculate the total count\n",
        "total_count = 843\n",
        "\n",
        "# Calculate percentages\n",
        "percentages = (value_counts / total_count) * 100\n",
        "\n",
        "# Plot the bar chart\n",
        "ax = value_counts.plot(kind='bar')\n",
        "\n",
        "# Add count and percentage labels above each bar in vertical alignment\n",
        "for i, (count, percentage) in enumerate(zip(value_counts, percentages)):\n",
        "    plt.text(i, count + 1, f\"{count}({percentage:.2f}%)\", ha='center', va='bottom')\n",
        "    # plt.text(i, count - 3, f\"({percentage:.2f}%)\", ha='center', va='top', rotation=90)\n",
        "\n",
        "# Set labels and title\n",
        "plt.xlabel('Location City')\n",
        "plt.ylabel('Count')\n",
        "plt.title('Alumni Count and Percentage by Location City')\n",
        "\n",
        "# Add description at the top right corner\n",
        "# description = \"This chart displays the count and percentage of alumni by Location City.\"\n",
        "# plt.text(0.85, 0.95, description, transform=ax.transAxes, fontsize=10, ha='right', va='top')\n",
        "\n",
        "# Show the chart\n",
        "plt.tight_layout()  # Ensure the labels fit within the figure\n",
        "plt.show()\n"
      ]
    },
    {
      "cell_type": "markdown",
      "metadata": {
        "id": "KiBfiMnu2KDQ"
      },
      "source": [
        "#### Distribution of Alumni by Location City"
      ]
    },
    {
      "cell_type": "code",
      "execution_count": null,
      "metadata": {
        "colab": {
          "base_uri": "https://localhost:8080/",
          "height": 829
        },
        "id": "WAMvFljR2KDQ",
        "outputId": "25ea1ec4-6b7b-412b-fd51-d5f51612dd8e"
      },
      "outputs": [],
      "source": [
        "# Replace 'Education Degree' with the column name you want to use\n",
        "column_name = 'Location City'\n",
        "\n",
        "# Count the occurrences of each unique value in the specified column\n",
        "value_counts = df[column_name].value_counts().head(8)\n",
        "\n",
        "# Create a pie chart\n",
        "plt.figure(figsize=(10,10))\n",
        "plt.pie(value_counts, labels=value_counts.index, autopct='%1.1f%%', startangle=140)\n",
        "\n",
        "# Add a title\n",
        "plt.title('Distribution of Alumni by Location City')\n",
        "\n",
        "# Display the chart\n",
        "plt.axis('equal')\n",
        "plt.show()"
      ]
    },
    {
      "cell_type": "markdown",
      "metadata": {
        "id": "NnggLBW52KDR"
      },
      "source": [
        "#### Alumni Count by Industry"
      ]
    },
    {
      "cell_type": "code",
      "execution_count": null,
      "metadata": {
        "colab": {
          "base_uri": "https://localhost:8080/",
          "height": 807
        },
        "id": "7SRZy3UK2KDR",
        "outputId": "2705a7da-01d1-4f24-e448-f98f03683071"
      },
      "outputs": [],
      "source": [
        "import matplotlib.pyplot as plt\n",
        "\n",
        "plt.figure(figsize=(10, 8))\n",
        "\n",
        "# Get the value counts\n",
        "value_counts = df['Company Industry Name'].value_counts().head(10)\n",
        "\n",
        "# Calculate the total count\n",
        "total_count = 843\n",
        "\n",
        "# Calculate percentages\n",
        "percentages = (value_counts / total_count) * 100\n",
        "\n",
        "# Plot the bar chart\n",
        "ax = value_counts.plot(kind='bar')\n",
        "\n",
        "# Add count and percentage labels above each bar in vertical alignment\n",
        "for i, (count, percentage) in enumerate(zip(value_counts, percentages)):\n",
        "    plt.text(i, count + 1, f\"{count}({percentage:.2f}%)\", ha='center', va='bottom')\n",
        "    # plt.text(i, count - 3, f\"({percentage:.2f}%)\", ha='center', va='top', rotation=90)\n",
        "\n",
        "# Set labels and title\n",
        "plt.xlabel('Company Industry Name')\n",
        "plt.ylabel('Count')\n",
        "plt.title('Alumni Count and Percentage by Company Industry Name')\n",
        "\n",
        "# Add description at the top right corner\n",
        "# description = \"This chart displays the count and percentage of alumni by Company Industry Name.\"\n",
        "# plt.text(0.85, 0.95, description, transform=ax.transAxes, fontsize=10, ha='right', va='top')\n",
        "\n",
        "# Show the chart\n",
        "plt.tight_layout()  # Ensure the labels fit within the figure\n",
        "plt.show()\n"
      ]
    },
    {
      "cell_type": "markdown",
      "metadata": {
        "id": "Eyb-lisx2KDS"
      },
      "source": [
        "#### Distribution of Alumni by Industry"
      ]
    },
    {
      "cell_type": "code",
      "execution_count": null,
      "metadata": {
        "colab": {
          "base_uri": "https://localhost:8080/",
          "height": 838
        },
        "id": "VVP7tFT22KDS",
        "outputId": "d7e1517c-f71f-4cc6-95b1-75973d162f79"
      },
      "outputs": [],
      "source": [
        "# Replace 'Education Degree' with the column name you want to use\n",
        "column_name = 'Company Industry Name'\n",
        "\n",
        "# Count the occurrences of each unique value in the specified column\n",
        "value_counts = df[column_name].value_counts().head(8)\n",
        "\n",
        "# Create a pie chart\n",
        "plt.figure(figsize=(10,10))\n",
        "plt.pie(value_counts, labels=value_counts.index, autopct='%1.1f%%', startangle=140)\n",
        "\n",
        "# Add a title\n",
        "plt.title('Distribution of Alumni by Industry')\n",
        "\n",
        "# Display the chart\n",
        "plt.axis('equal')\n",
        "plt.show()"
      ]
    },
    {
      "cell_type": "markdown",
      "metadata": {
        "id": "LHCH_ah02KDT"
      },
      "source": [
        "#### Alumni Count by Company Size"
      ]
    },
    {
      "cell_type": "code",
      "execution_count": null,
      "metadata": {
        "colab": {
          "base_uri": "https://localhost:8080/",
          "height": 807
        },
        "id": "6Z46y_IM2KDT",
        "outputId": "6b2e5d90-dad2-4f93-d5c9-f58bbf8ec036"
      },
      "outputs": [],
      "source": [
        "import matplotlib.pyplot as plt\n",
        "\n",
        "plt.figure(figsize=(10, 8))\n",
        "\n",
        "# Get the value counts\n",
        "value_counts = df['Company Details Size'].value_counts().head(10)\n",
        "\n",
        "# Calculate the total count\n",
        "total_count = 843\n",
        "\n",
        "# Calculate percentages\n",
        "percentages = (value_counts / total_count) * 100\n",
        "\n",
        "# Plot the bar chart\n",
        "ax = value_counts.plot(kind='bar')\n",
        "\n",
        "# Add count and percentage labels above each bar in vertical alignment\n",
        "for i, (count, percentage) in enumerate(zip(value_counts, percentages)):\n",
        "    plt.text(i, count + 1, f\"{count}({percentage:.2f}%)\", ha='center', va='bottom')\n",
        "    # plt.text(i, count - 3, f\"({percentage:.2f}%)\", ha='center', va='top', rotation=90)\n",
        "\n",
        "# Set labels and title\n",
        "plt.xlabel('Company Details Size')\n",
        "plt.ylabel('Count')\n",
        "plt.title('Alumni Count and Percentage by Company Details Size')\n",
        "\n",
        "# Add description at the top right corner\n",
        "# description = \"This chart displays the count and percentage of alumni by Company Details Size.\"\n",
        "# plt.text(0.85, 0.95, description, transform=ax.transAxes, fontsize=10, ha='right', va='top')\n",
        "\n",
        "# Show the chart\n",
        "plt.tight_layout()  # Ensure the labels fit within the figure\n",
        "plt.show()"
      ]
    },
    {
      "cell_type": "markdown",
      "metadata": {
        "id": "0Ha2fzwL2KDU"
      },
      "source": [
        "#### Distribution of Alumni by Company Size"
      ]
    },
    {
      "cell_type": "code",
      "execution_count": null,
      "metadata": {
        "colab": {
          "base_uri": "https://localhost:8080/",
          "height": 829
        },
        "id": "VdaT8CPz2KDU",
        "outputId": "5110be8c-284e-4032-9717-633947614469"
      },
      "outputs": [],
      "source": [
        "# Replace 'Education Degree' with the column name you want to use\n",
        "column_name = 'Company Details Size'\n",
        "\n",
        "# Count the occurrences of each unique value in the specified column\n",
        "value_counts = df[column_name].value_counts()\n",
        "\n",
        "# Create a pie chart\n",
        "plt.figure(figsize=(10,10))\n",
        "plt.pie(value_counts, labels=value_counts.index, autopct='%1.1f%%', startangle=140)\n",
        "\n",
        "# Add a title\n",
        "plt.title('Distribution of Alumni by Company Size')\n",
        "\n",
        "# Display the chart\n",
        "plt.axis('equal')\n",
        "plt.show()"
      ]
    },
    {
      "cell_type": "markdown",
      "metadata": {
        "id": "1Ia6B0wr2KDV"
      },
      "source": [
        "#### Alumni Count by Company Type"
      ]
    },
    {
      "cell_type": "code",
      "execution_count": null,
      "metadata": {
        "colab": {
          "base_uri": "https://localhost:8080/",
          "height": 807
        },
        "id": "UVXIvf8u2KDV",
        "outputId": "36dbc514-80ca-4ddf-d00c-2e1bafb4c844"
      },
      "outputs": [],
      "source": [
        "import matplotlib.pyplot as plt\n",
        "\n",
        "plt.figure(figsize=(10, 8))\n",
        "\n",
        "# Get the value counts\n",
        "value_counts = df['Company Type'].value_counts().head(10)\n",
        "\n",
        "# Calculate the total count\n",
        "total_count = 843\n",
        "\n",
        "# Calculate percentages\n",
        "percentages = (value_counts / total_count) * 100\n",
        "\n",
        "# Plot the bar chart\n",
        "ax = value_counts.plot(kind='bar')\n",
        "\n",
        "# Add count and percentage labels above each bar in vertical alignment\n",
        "for i, (count, percentage) in enumerate(zip(value_counts, percentages)):\n",
        "    plt.text(i, count + 1, f\"{count}({percentage:.2f}%)\", ha='center', va='bottom')\n",
        "    # plt.text(i, count - 3, f\"({percentage:.2f}%)\", ha='center', va='top', rotation=90)\n",
        "\n",
        "# Set labels and title\n",
        "plt.xlabel('Company Type')\n",
        "plt.ylabel('Count')\n",
        "plt.title('Alumni Count and Percentage by Company Type')\n",
        "\n",
        "# Add description at the top right corner\n",
        "# description = \"This chart displays the count and percentage of alumni by Company Type.\"\n",
        "# plt.text(0.85, 0.95, description, transform=ax.transAxes, fontsize=10, ha='right', va='top')\n",
        "\n",
        "# Show the chart\n",
        "plt.tight_layout()  # Ensure the labels fit within the figure\n",
        "plt.show()"
      ]
    },
    {
      "cell_type": "markdown",
      "metadata": {
        "id": "_1rqfjt52KDV"
      },
      "source": [
        "#### Distribution of Alumni by Company Type"
      ]
    },
    {
      "cell_type": "code",
      "execution_count": null,
      "metadata": {
        "colab": {
          "base_uri": "https://localhost:8080/",
          "height": 829
        },
        "id": "6QULzmZT2KDW",
        "outputId": "27b512e4-e749-42cb-83d4-15915c1565f0"
      },
      "outputs": [],
      "source": [
        "# Replace 'Education Degree' with the column name you want to use\n",
        "column_name = 'Company Type'\n",
        "\n",
        "# Count the occurrences of each unique value in the specified column\n",
        "value_counts = df[column_name].value_counts()\n",
        "\n",
        "# Create a pie chart\n",
        "plt.figure(figsize=(10,10))\n",
        "plt.pie(value_counts, labels=value_counts.index, autopct='%1.1f%%', startangle=140)\n",
        "\n",
        "# Add a title\n",
        "plt.title('Distribution of Alumni by Company Type')\n",
        "\n",
        "# Display the chart\n",
        "plt.axis('equal')\n",
        "plt.show()"
      ]
    },
    {
      "cell_type": "markdown",
      "metadata": {
        "id": "o8OjHx-n2KDX"
      },
      "source": [
        "### **Correlations**"
      ]
    },
    {
      "cell_type": "markdown",
      "metadata": {
        "id": "8Y7NndMs2KDX"
      },
      "source": [
        "#### Seasonal Hiring Trend Over Time"
      ]
    },
    {
      "cell_type": "code",
      "execution_count": null,
      "metadata": {
        "colab": {
          "base_uri": "https://localhost:8080/",
          "height": 718
        },
        "id": "nA5f5R2Y2KDX",
        "outputId": "51169786-5891-419f-a9ab-d65911a522fa"
      },
      "outputs": [],
      "source": [
        "# Extract the 'Employment Start Month' and 'Employment Start Year' columns\n",
        "start_month_year = df[['Employment Start Month', 'Employment Start Year']]\n",
        "\n",
        "\n",
        "# Create a pivot table to count the occurrences of each month-year combination\n",
        "pivot_table = start_month_year.pivot_table(index='Employment Start Month', columns='Employment Start Year', aggfunc='size', fill_value=0)\n",
        "\n",
        "# Create a heatmap to visualize the seasonal hiring trends\n",
        "plt.figure(figsize=(12, 8))\n",
        "sns.heatmap(pivot_table, cmap='YlGnBu', annot=True, fmt='d', cbar=True, linewidths=0.5)\n",
        "\n",
        "# Add labels and title\n",
        "plt.xlabel('Employment Start Year')\n",
        "plt.ylabel('Employment Start Month')\n",
        "plt.title('Seasonal Hiring Trends Over Time')\n",
        "\n",
        "# Show the plot\n",
        "plt.show()\n"
      ]
    },
    {
      "cell_type": "markdown",
      "metadata": {
        "id": "kscPIz962KDY"
      },
      "source": [
        "#### Alumni Counts per Education Degree, Major and Industry"
      ]
    },
    {
      "cell_type": "code",
      "execution_count": null,
      "metadata": {
        "colab": {
          "base_uri": "https://localhost:8080/",
          "height": 1000
        },
        "id": "1KQSUD1J2KDZ",
        "outputId": "4737dccf-c32b-4a72-f078-20760793f7b9"
      },
      "outputs": [],
      "source": [
        "# Filter relevant columns (adjust column names as needed)\n",
        "df = df[['Education Degree', 'Education Subject', 'Company Industry Name']]\n",
        "\n",
        "# Group and aggregate the data\n",
        "education_major_industry_counts = df.groupby(['Education Subject', 'Education Degree', 'Company Industry Name']).size().reset_index(name='Count')\n",
        "\n",
        "# Sort the results by count in descending order to find the top industries\n",
        "top_industries_by_education_major = education_major_industry_counts.sort_values(by='Count', ascending=False)\n",
        "\n",
        "top_uni = pd.DataFrame(top_industries_by_education_major)\n",
        "top_uni.head(50)\n"
      ]
    },
    {
      "cell_type": "markdown",
      "metadata": {
        "id": "HYPOrpTe2KDZ"
      },
      "source": [
        "#### Heatmap: Alumni Education Major vs. Education Degree"
      ]
    },
    {
      "cell_type": "code",
      "execution_count": null,
      "metadata": {
        "colab": {
          "base_uri": "https://localhost:8080/",
          "height": 717
        },
        "id": "89Y3Pje92KDa",
        "outputId": "133297d9-4e4e-4b6c-e030-3daeb7711c14"
      },
      "outputs": [],
      "source": [
        "# Get the top 15 Education Degrees based on counts\n",
        "top_10_degrees = df['Education Subject'].value_counts().head(10).index\n",
        "\n",
        "# Filter the dataframe to include only the top 15 Education Degrees\n",
        "df = df[df['Education Subject'].isin(top_10_degrees)]\n",
        "\n",
        "# Pivot the filtered DataFrame to get a matrix of counts\n",
        "heatmap_data = df.pivot_table(index='Education Degree', columns='Education Subject', aggfunc='size', fill_value=0)\n",
        "\n",
        "# Create the heatmap\n",
        "plt.figure(figsize=(10, 6))  # Adjust the figure size as needed\n",
        "sns.heatmap(heatmap_data, annot=True, cmap='YlGnBu', fmt='d')  # 'fmt' specifies format for annotations (integers)\n",
        "plt.xlabel('Education Subject')\n",
        "plt.ylabel('Education Degree')\n",
        "plt.title('Heatmap: Top 10 Education Degrees vs. Education Subjects')\n",
        "plt.show()\n"
      ]
    },
    {
      "cell_type": "code",
      "execution_count": null,
      "metadata": {
        "id": "xaXh6TjS2KDa"
      },
      "outputs": [],
      "source": [
        "# # Pivot the DataFrame to get a matrix of counts\n",
        "# heatmap_data = df.pivot_table(index='Education Degree', columns='Education Subject', aggfunc='size', fill_value=0)\n",
        "\n",
        "# # Create the heatmap\n",
        "# plt.figure(figsize=(50,20))  # Adjust the figure size as needed\n",
        "# sns.heatmap(heatmap_data, annot=True, cmap='YlGnBu', fmt='d')  # 'fmt' specifies format for annotations (integers)\n",
        "# plt.xlabel('Education Degree')\n",
        "# plt.ylabel('Education Subject')\n",
        "# plt.title('Heatmap: Alumni Education Major vs. Education Degree')\n",
        "# plt.show()\n",
        "\n"
      ]
    },
    {
      "cell_type": "markdown",
      "metadata": {
        "id": "c0X5caj_2KDb"
      },
      "source": [
        "#### Heatmap: Alumni Employment Industry vs. Education Degree"
      ]
    },
    {
      "cell_type": "code",
      "execution_count": null,
      "metadata": {
        "colab": {
          "base_uri": "https://localhost:8080/",
          "height": 796
        },
        "id": "REZ7JNAq2KDc",
        "outputId": "6d0b4995-78d6-47cf-9569-9f3f5473eb95"
      },
      "outputs": [],
      "source": [
        "# # Pivot the DataFrame to get a matrix of counts\n",
        "# heatmap_data = df.pivot_table(index='Education Degree', columns='Company Industry Name', aggfunc='size', fill_value=0)\n",
        "\n",
        "# # Create the heatmap\n",
        "# plt.figure(figsize=(50,20))  # Adjust the figure size as needed\n",
        "# sns.heatmap(heatmap_data, annot=True, cmap='YlGnBu', fmt='d')  # 'fmt' specifies format for annotations (integers)\n",
        "# plt.xlabel('Education Degree')\n",
        "# plt.ylabel('Company Industry Name')\n",
        "# plt.title('Heatmap: Alumni Employment Industry vs. Education Degree')\n",
        "# plt.show()\n",
        "\n",
        "# Get the top 15 Education Degrees based on counts\n",
        "top_10_degrees = df['Company Industry Name'].value_counts().head(10).index\n",
        "\n",
        "# Filter the dataframe to include only the top 15 Education Degrees\n",
        "df = df[df['Company Industry Name'].isin(top_10_degrees)]\n",
        "\n",
        "# Pivot the filtered DataFrame to get a matrix of counts\n",
        "heatmap_data = df.pivot_table(index='Education Degree', columns='Company Industry Name', aggfunc='size', fill_value=0)\n",
        "\n",
        "# Create the heatmap\n",
        "plt.figure(figsize=(10,6))  # Adjust the figure size as needed\n",
        "sns.heatmap(heatmap_data, annot=True, cmap='YlGnBu', fmt='d')  # 'fmt' specifies format for annotations (integers)\n",
        "plt.xlabel('Industry')\n",
        "plt.ylabel('Education Degree')\n",
        "plt.title('Heatmap: Top 10 Education Degrees vs. Company Industry Name')\n",
        "plt.show()\n"
      ]
    },
    {
      "cell_type": "code",
      "execution_count": null,
      "metadata": {
        "id": "dk_h4jMS2KDd"
      },
      "outputs": [],
      "source": [
        "#df = pd.read_csv(url)\n"
      ]
    },
    {
      "cell_type": "markdown",
      "metadata": {
        "id": "b6GvFgx32KDd"
      },
      "source": [
        "#### Heatmap: Alumni Employment Company Type vs. Education Degree"
      ]
    },
    {
      "cell_type": "code",
      "execution_count": null,
      "metadata": {
        "colab": {
          "base_uri": "https://localhost:8080/"
        },
        "id": "wSeaupgfJ18b",
        "outputId": "fcd4258a-5485-40c7-eef9-9fdc01aca553"
      },
      "outputs": [],
      "source": [
        "df = pd.read_csv('../datasets/alumni_dataset.csv', encoding='latin1')"
      ]
    },
    {
      "cell_type": "code",
      "execution_count": null,
      "metadata": {
        "colab": {
          "base_uri": "https://localhost:8080/",
          "height": 706
        },
        "id": "v1bbarAQ2KDe",
        "outputId": "df14148d-3759-457a-b12f-1a58b9c303e1"
      },
      "outputs": [],
      "source": [
        "# Pivot the DataFrame to get a matrix of counts\n",
        "heatmap_data = df.pivot_table(index='Education Degree', columns='Company Type', aggfunc='size', fill_value=0)\n",
        "\n",
        "# Create the heatmap\n",
        "plt.figure(figsize=(10,6))  # Adjust the figure size as needed\n",
        "sns.heatmap(heatmap_data, annot=True, cmap='YlGnBu', fmt='d')  # 'fmt' specifies format for annotations (integers)\n",
        "plt.xlabel('Education Degree')\n",
        "plt.ylabel('Company Type')\n",
        "plt.title('Heatmap: Alumni Employment Company Type vs. Education Degree')\n",
        "plt.show()"
      ]
    },
    {
      "cell_type": "markdown",
      "metadata": {
        "id": "TPyYgfBf2KDe"
      },
      "source": [
        "#### Heatmap: Alumni Employment Location State vs. Education Degree"
      ]
    },
    {
      "cell_type": "code",
      "execution_count": null,
      "metadata": {
        "colab": {
          "base_uri": "https://localhost:8080/",
          "height": 736
        },
        "id": "PfuDAHkb2KDf",
        "outputId": "526b1be1-c2f1-40e8-ba96-7e29f9cb7f93"
      },
      "outputs": [],
      "source": [
        "# # Pivot the DataFrame to get a matrix of counts\n",
        "# heatmap_data = df.pivot_table(index='Education Degree', columns='Location State', aggfunc='size', fill_value=0)\n",
        "\n",
        "# # Create the heatmap\n",
        "# plt.figure(figsize=(25,15))  # Adjust the figure size as needed\n",
        "# sns.heatmap(heatmap_data, annot=True, cmap='YlGnBu', fmt='d')  # 'fmt' specifies format for annotations (integers)\n",
        "# plt.xlabel('Education Degree')\n",
        "# plt.ylabel('location State')\n",
        "# plt.title('Heatmap: Alumni Employment Location State vs. Education Degree')\n",
        "# plt.show()\n",
        "\n",
        "# Get the top 15 Education Degrees based on counts\n",
        "top_10_degrees = df['Location State'].value_counts().head(10).index\n",
        "\n",
        "# Filter the dataframe to include only the top 15 Education Degrees\n",
        "df = df[df['Location State'].isin(top_10_degrees)]\n",
        "\n",
        "# Pivot the filtered DataFrame to get a matrix of counts\n",
        "heatmap_data = df.pivot_table(index='Education Degree', columns='Location State', aggfunc='size', fill_value=0)\n",
        "\n",
        "# Create the heatmap\n",
        "plt.figure(figsize=(10,6))  # Adjust the figure size as needed\n",
        "sns.heatmap(heatmap_data, annot=True, cmap='YlGnBu', fmt='d')  # 'fmt' specifies format for annotations (integers)\n",
        "plt.xlabel('Education Degree')\n",
        "plt.ylabel('location State')\n",
        "plt.title('Heatmap: Alumni Employment Location State vs. Education Degree')\n",
        "plt.show()"
      ]
    },
    {
      "cell_type": "markdown",
      "metadata": {
        "id": "IQVdQXwcKRhd"
      },
      "source": [
        "### Heatmap: Alumni Education Degree vs. Location Country"
      ]
    },
    {
      "cell_type": "code",
      "execution_count": null,
      "metadata": {
        "colab": {
          "base_uri": "https://localhost:8080/",
          "height": 661
        },
        "id": "LCWVMN6bKYz5",
        "outputId": "37075722-d637-4e43-b8ad-00a6ecf00c2a"
      },
      "outputs": [],
      "source": [
        "# # Pivot the DataFrame to get a matrix of counts\n",
        "# heatmap_data = df.pivot_table(index='Education Degree', columns='Location State', aggfunc='size', fill_value=0)\n",
        "\n",
        "# # Create the heatmap\n",
        "# plt.figure(figsize=(25,15))  # Adjust the figure size as needed\n",
        "# sns.heatmap(heatmap_data, annot=True, cmap='YlGnBu', fmt='d')  # 'fmt' specifies format for annotations (integers)\n",
        "# plt.xlabel('Education Degree')\n",
        "# plt.ylabel('location State')\n",
        "# plt.title('Heatmap: Alumni Employment Location State vs. Education Degree')\n",
        "# plt.show()\n",
        "\n",
        "# Get the top 15 Education Degrees based on counts\n",
        "top_10_degrees = df['Location Country'].value_counts().head(10).index\n",
        "\n",
        "# Filter the dataframe to include only the top 15 Education Degrees\n",
        "df = df[df['Location Country'].isin(top_10_degrees)]\n",
        "\n",
        "# Pivot the filtered DataFrame to get a matrix of counts\n",
        "heatmap_data = df.pivot_table(index='Education Degree', columns='Location Country', aggfunc='size', fill_value=0)\n",
        "\n",
        "# Create the heatmap\n",
        "plt.figure(figsize=(10,6))  # Adjust the figure size as needed\n",
        "sns.heatmap(heatmap_data, annot=True, cmap='YlGnBu', fmt='d')  # 'fmt' specifies format for annotations (integers)\n",
        "plt.xlabel('Education Degree')\n",
        "plt.ylabel('location Country')\n",
        "plt.title('Heatmap: Alumni Employment Location Country vs. Education Degree')\n",
        "plt.show()"
      ]
    },
    {
      "cell_type": "markdown",
      "metadata": {
        "id": "U2fMxHVf2KDf"
      },
      "source": [
        "#### Heatmap: Alumni Employment Company Size vs. Industry"
      ]
    },
    {
      "cell_type": "code",
      "execution_count": null,
      "metadata": {
        "colab": {
          "base_uri": "https://localhost:8080/",
          "height": 796
        },
        "id": "WsrxvMV52KDg",
        "outputId": "fd567ca7-fa9b-42ec-a727-1a4368e65f67"
      },
      "outputs": [],
      "source": [
        "# # Pivot the DataFrame to get a matrix of counts\n",
        "# heatmap_data = df.pivot_table(index='Company Industry Name', columns='Company Details Size', aggfunc='size', fill_value=0)\n",
        "\n",
        "# # Create the heatmap\n",
        "# plt.figure(figsize=(30,30))  # Adjust the figure size as needed\n",
        "# sns.heatmap(heatmap_data, annot=True, cmap='YlGnBu', fmt='d')  # 'fmt' specifies format for annotations (integers)\n",
        "# plt.xlabel('Company Size')\n",
        "# plt.ylabel('Industry')\n",
        "# plt.title('Heatmap: Alumni Employment Company Size vs. Industry')\n",
        "# plt.show()\n",
        "\n",
        "\n",
        "# Get the top 15 Education Degrees based on counts\n",
        "top_10_degrees = df['Company Industry Name'].value_counts().head(10).index\n",
        "\n",
        "# Filter the dataframe to include only the top 15 Education Degrees\n",
        "df = df[df['Company Industry Name'].isin(top_10_degrees)]\n",
        "\n",
        "# Pivot the filtered DataFrame to get a matrix of counts\n",
        "heatmap_data = df.pivot_table(index='Company Details Size', columns='Company Industry Name', aggfunc='size', fill_value=0)\n",
        "\n",
        "# Create the heatmap\n",
        "plt.figure(figsize=(10,6))  # Adjust the figure size as needed\n",
        "sns.heatmap(heatmap_data, annot=True, cmap='YlGnBu', fmt='d')  # 'fmt' specifies format for annotations (integers)\n",
        "plt.xlabel('Company Size')\n",
        "plt.ylabel('Industry')\n",
        "plt.title('Heatmap: Alumni Employment Company Size vs. Industry')\n",
        "plt.show()\n"
      ]
    },
    {
      "cell_type": "markdown",
      "metadata": {
        "id": "6lrr0S8Q2KDh"
      },
      "source": [
        "#### Heatmap: Alumni Employment Company Type vs. Industry"
      ]
    },
    {
      "cell_type": "code",
      "execution_count": null,
      "metadata": {
        "colab": {
          "base_uri": "https://localhost:8080/",
          "height": 796
        },
        "id": "ToASsZUA2KDh",
        "outputId": "9c3d6389-d6b8-47fb-e92e-861b0a8ceec8"
      },
      "outputs": [],
      "source": [
        "# # Pivot the DataFrame to get a matrix of counts\n",
        "# heatmap_data = df.pivot_table(index='Company Industry Name', columns='Company Type', aggfunc='size', fill_value=0)\n",
        "\n",
        "# # Create the heatmap\n",
        "# plt.figure(figsize=(30,30))  # Adjust the figure size as needed\n",
        "# sns.heatmap(heatmap_data, annot=True, cmap='YlGnBu', fmt='d')  # 'fmt' specifies format for annotations (integers)\n",
        "\n",
        "# Get the top 15 Education Degrees based on counts\n",
        "top_10_degrees = df['Company Industry Name'].value_counts().head(10).index\n",
        "\n",
        "# Filter the dataframe to include only the top 15 Education Degrees\n",
        "df = df[df['Company Industry Name'].isin(top_10_degrees)]\n",
        "\n",
        "# Pivot the filtered DataFrame to get a matrix of counts\n",
        "heatmap_data = df.pivot_table(index='Company Type', columns='Company Industry Name', aggfunc='size', fill_value=0)\n",
        "\n",
        "# Create the heatmap\n",
        "plt.figure(figsize=(10,6))  # Adjust the figure size as needed\n",
        "sns.heatmap(heatmap_data, annot=True, cmap='YlGnBu', fmt='d')  # 'fmt' specifies format for annotations (integers)\n",
        "plt.xlabel('Company Type')\n",
        "plt.ylabel('Industry')\n",
        "plt.title('Heatmap: Alumni Employment Company Type vs. Industry')\n",
        "plt.show()"
      ]
    },
    {
      "cell_type": "markdown",
      "metadata": {
        "id": "V-MAXPZA2KDh"
      },
      "source": [
        "#### Heatmap: Alumni Employment Country vs. Industry"
      ]
    },
    {
      "cell_type": "code",
      "execution_count": null,
      "metadata": {
        "colab": {
          "base_uri": "https://localhost:8080/",
          "height": 796
        },
        "id": "WaZkGdeR2KDi",
        "outputId": "53cc9f39-c64d-48c2-c023-539bcbe502ae"
      },
      "outputs": [],
      "source": [
        "# # Pivot the DataFrame to get a matrix of counts\n",
        "# heatmap_data = df.pivot_table(index='Company Industry Name', columns='Location Country', aggfunc='size', fill_value=0)\n",
        "\n",
        "# # Create the heatmap\n",
        "# plt.figure(figsize=(30,30))  # Adjust the figure size as needed\n",
        "# sns.heatmap(heatmap_data, annot=True, cmap='YlGnBu', fmt='d')  # 'fmt' specifies format for annotations (integers)\n",
        "\n",
        "# Get the top 15 Education Degrees based on counts\n",
        "top_10_degrees = df['Company Industry Name'].value_counts().head(10).index\n",
        "\n",
        "# Filter the dataframe to include only the top 15 Education Degrees\n",
        "df = df[df['Company Industry Name'].isin(top_10_degrees)]\n",
        "\n",
        "# Pivot the filtered DataFrame to get a matrix of counts\n",
        "heatmap_data = df.pivot_table(index='Location Country', columns='Company Industry Name', aggfunc='size', fill_value=0)\n",
        "\n",
        "# Create the heatmap\n",
        "plt.figure(figsize=(10,6))  # Adjust the figure size as needed\n",
        "sns.heatmap(heatmap_data, annot=True, cmap='YlGnBu', fmt='d')  # 'fmt' specifies format for annotations (integers)\n",
        "\n",
        "plt.xlabel('Location Country')\n",
        "plt.ylabel('Industry')\n",
        "plt.title('Heatmap: Alumni Employment Country vs. Industry')\n",
        "plt.show()"
      ]
    },
    {
      "cell_type": "markdown",
      "metadata": {
        "id": "s1lR6SUR2KDi"
      },
      "source": [
        "#### Heatmap: Alumni Employment Location State vs. Industry"
      ]
    },
    {
      "cell_type": "code",
      "execution_count": null,
      "metadata": {
        "colab": {
          "base_uri": "https://localhost:8080/",
          "height": 736
        },
        "id": "P0tF0X7W2KDj",
        "outputId": "61744f73-1bfe-428f-bd1e-bcd9285655d6"
      },
      "outputs": [],
      "source": [
        "# # Pivot the DataFrame to get a matrix of counts\n",
        "# heatmap_data = df.pivot_table(index='Company Industry Name', columns='Location State', aggfunc='size', fill_value=0)\n",
        "\n",
        "# # Create the heatmap\n",
        "# plt.figure(figsize=(30,30))  # Adjust the figure size as needed\n",
        "# sns.heatmap(heatmap_data, annot=True, cmap='YlGnBu', fmt='d')  # 'fmt' specifies format for annotations (integers)\n",
        "\n",
        "# Get the top 15 Education Degrees based on counts\n",
        "top_10_degrees = df['Company Industry Name'].value_counts().head(10).index\n",
        "\n",
        "# Filter the dataframe to include only the top 15 Education Degrees\n",
        "df = df[df['Company Industry Name'].isin(top_10_degrees)]\n",
        "\n",
        "# Pivot the filtered DataFrame to get a matrix of counts\n",
        "heatmap_data = df.pivot_table(index='Company Industry Name', columns='Location State', aggfunc='size', fill_value=0)\n",
        "\n",
        "# Create the heatmap\n",
        "plt.figure(figsize=(10,6))  # Adjust the figure size as needed\n",
        "sns.heatmap(heatmap_data, annot=True, cmap='YlGnBu', fmt='d')  # 'fmt' specifies format for annotations (integers)\n",
        "\n",
        "plt.xlabel('Location State')\n",
        "plt.ylabel('Industry')\n",
        "plt.title('Heatmap: Alumni Employment Location State vs. Industry')\n",
        "plt.show()"
      ]
    },
    {
      "cell_type": "markdown",
      "metadata": {
        "id": "poLToC2E2KDj"
      },
      "source": [
        "#### Heatmap: Alumni Employment Location State vs. Country"
      ]
    },
    {
      "cell_type": "code",
      "execution_count": null,
      "metadata": {
        "colab": {
          "base_uri": "https://localhost:8080/",
          "height": 736
        },
        "id": "VyrmcGWT2KDk",
        "outputId": "f4896659-b372-466f-c236-a73ba2e6c2ec"
      },
      "outputs": [],
      "source": [
        "# # Pivot the DataFrame to get a matrix of counts\n",
        "# heatmap_data = df.pivot_table(index='Location Country', columns='Location State', aggfunc='size', fill_value=0)\n",
        "\n",
        "# # Create the heatmap\n",
        "# plt.figure(figsize=(30,15))  # Adjust the figure size as needed\n",
        "# sns.heatmap(heatmap_data, annot=True, cmap='YlGnBu', fmt='d')  # 'fmt' specifies format for annotations (integers)\n",
        "\n",
        "# Get the top 15 Education Degrees based on counts\n",
        "top_10_degrees = df['Location State'].value_counts().head(15).index\n",
        "\n",
        "# Filter the dataframe to include only the top 15 Education Degrees\n",
        "df = df[df['Location State'].isin(top_10_degrees)]\n",
        "\n",
        "# Pivot the filtered DataFrame to get a matrix of counts\n",
        "heatmap_data = df.pivot_table(index='Location Country', columns='Location State', aggfunc='size', fill_value=0)\n",
        "\n",
        "# Create the heatmap\n",
        "plt.figure(figsize=(10,6))  # Adjust the figure size as needed\n",
        "sns.heatmap(heatmap_data, annot=True, cmap='YlGnBu', fmt='d')  # 'fmt' specifies format for annotations (integers)\n",
        "\n",
        "plt.xlabel('Location State')\n",
        "plt.ylabel('Location Country')\n",
        "plt.title('Heatmap: Alumni Employment Location State vs. Country')\n",
        "plt.show()"
      ]
    },
    {
      "cell_type": "markdown",
      "metadata": {
        "id": "tCdAjc8n2KDk"
      },
      "source": [
        "#### Heatmap: Alumni Employment Location State vs. City"
      ]
    },
    {
      "cell_type": "code",
      "execution_count": null,
      "metadata": {
        "colab": {
          "base_uri": "https://localhost:8080/",
          "height": 697
        },
        "id": "qrppN9Va2KDl",
        "outputId": "e5291e5f-a273-4afd-9b2d-fead04b4fd09"
      },
      "outputs": [],
      "source": [
        "# # Pivot the DataFrame to get a matrix of counts\n",
        "# heatmap_data = df.pivot_table(index='Location City', columns='Location State', aggfunc='size', fill_value=0)\n",
        "\n",
        "# # Create the heatmap\n",
        "# plt.figure(figsize=(30,50))  # Adjust the figure size as needed\n",
        "# sns.heatmap(heatmap_data, annot=True, cmap='YlGnBu', fmt='d')  # 'fmt' specifies format for annotations (integers)\n",
        "# Get the top 15 Education Degrees based on counts\n",
        "top_10_degrees = df['Location City'].value_counts().head(15).index\n",
        "\n",
        "# Filter the dataframe to include only the top 15 Education Degrees\n",
        "df = df[df['Location City'].isin(top_10_degrees)]\n",
        "\n",
        "# Pivot the filtered DataFrame to get a matrix of counts\n",
        "heatmap_data = df.pivot_table(index='Location State', columns='Location City', aggfunc='size', fill_value=0)\n",
        "\n",
        "# Create the heatmap\n",
        "plt.figure(figsize=(10,6))  # Adjust the figure size as needed\n",
        "sns.heatmap(heatmap_data, annot=True, cmap='YlGnBu', fmt='d')  # 'fmt' specifies format for annotations (integers)\n",
        "\n",
        "\n",
        "plt.xlabel('Location State')\n",
        "plt.ylabel('Location City')\n",
        "plt.title('Heatmap: Alumni Employment Location State vs. City')\n",
        "plt.show()"
      ]
    },
    {
      "cell_type": "markdown",
      "metadata": {
        "id": "GhCBW96x2KDm"
      },
      "source": [
        "# **Predictive Analysis**"
      ]
    },
    {
      "cell_type": "markdown",
      "metadata": {
        "id": "SJUalICW2KDm"
      },
      "source": [
        "## **1. Clustering**"
      ]
    },
    {
      "cell_type": "markdown",
      "metadata": {
        "id": "SDWGg9Htr-xZ"
      },
      "source": [
        "This code performs clustering on the alumni dataset using K-Means, where it selects relevant features such as 'Education Major,' 'Location City,' and 'Company Industry Name.' It preprocesses these features by scaling numerical data and one-hot encoding categorical data. It then applies K-Means clustering with three clusters and calculates the Silhouette Score to evaluate the clustering quality. The 'Cluster' column in the dataset contains cluster labels assigned to each alumni based on the selected features.\n"
      ]
    },
    {
      "cell_type": "code",
      "execution_count": null,
      "metadata": {
        "id": "6Ke1o8VMJXMy"
      },
      "outputs": [],
      "source": []
    },
    {
      "cell_type": "code",
      "execution_count": null,
      "metadata": {
        "colab": {
          "base_uri": "https://localhost:8080/"
        },
        "id": "e90oONpnJXsZ",
        "outputId": "1f3bf3a7-a119-4902-e35e-6cd6c93b2dcb"
      },
      "outputs": [],
      "source": [
        "df = pd.read_csv('../datasets/alumni_dataset.csv', encoding='latin1')"
      ]
    },
    {
      "cell_type": "code",
      "execution_count": null,
      "metadata": {
        "colab": {
          "base_uri": "https://localhost:8080/"
        },
        "id": "ROJNFxDt2KDn",
        "outputId": "58c796c1-8725-4de3-e36f-fe8f2141df6e"
      },
      "outputs": [],
      "source": [
        "import pandas as pd\n",
        "from sklearn.cluster import KMeans\n",
        "from sklearn.preprocessing import StandardScaler, LabelEncoder, OneHotEncoder\n",
        "from sklearn.compose import ColumnTransformer\n",
        "from sklearn.pipeline import Pipeline\n",
        "from sklearn.metrics import silhouette_score\n",
        "\n",
        "# Load your alumni dataset\n",
        "# data = pd.read_csv(df)\n",
        "\n",
        "# Select the relevant features for clustering (e.g., 'Education Major', 'Location City', 'Company Industry Name')\n",
        "selected_features_for_clustering = df[['Education Major', 'Location City', 'Company Industry Name']]\n",
        "\n",
        "# Preprocessing for numerical and categorical features\n",
        "numerical_features = selected_features_for_clustering.select_dtypes(include=['int64', 'float64']).columns\n",
        "categorical_features = selected_features_for_clustering.select_dtypes(include=['object']).columns\n",
        "\n",
        "# Create a preprocessing pipeline for numerical and categorical features\n",
        "numeric_transformer = Pipeline(steps=[\n",
        "    ('scaler', StandardScaler())])\n",
        "\n",
        "categorical_transformer = Pipeline(steps=[\n",
        "    ('onehot', OneHotEncoder(handle_unknown='ignore'))])\n",
        "\n",
        "preprocessor = ColumnTransformer(\n",
        "    transformers=[\n",
        "        ('num', numeric_transformer, numerical_features),\n",
        "        ('cat', categorical_transformer, categorical_features)])\n",
        "\n",
        "# Combine preprocessing with clustering using K-Means\n",
        "pipeline = Pipeline(steps=[('preprocessor', preprocessor),\n",
        "                           ('clusterer', KMeans(n_clusters=3, random_state=42))])  # You can specify the number of clusters\n",
        "\n",
        "# Fit the pipeline to your data\n",
        "pipeline.fit(selected_features_for_clustering)\n",
        "\n",
        "# Add cluster labels to the original dataset\n",
        "df['Cluster'] = pipeline.named_steps['clusterer'].labels_\n",
        "\n",
        "# Calculate Silhouette Score based on the numerical features used for clustering\n",
        "silhouette_avg = silhouette_score(pipeline.transform(selected_features_for_clustering), df['Cluster'])\n",
        "\n",
        "print(f'Silhouette Score: {silhouette_avg}')\n",
        "\n",
        "# Now, the 'Cluster' column in your dataset contains the cluster labels assigned to each alumni based on mixed features.\n"
      ]
    },
    {
      "cell_type": "code",
      "execution_count": null,
      "metadata": {
        "colab": {
          "base_uri": "https://localhost:8080/"
        },
        "id": "GqOXkn8ttJdO",
        "outputId": "860c00f2-4116-4f83-a326-367958e41f3d"
      },
      "outputs": [],
      "source": [
        "\n",
        "from google.colab import drive\n",
        "\n",
        "drive.mount('/content/drive')\n",
        "\n",
        "import pandas as pd\n",
        "\n",
        "df = pd.read_csv('/content/drive/My Drive/alumni_dataset_2.csv')"
      ]
    },
    {
      "cell_type": "markdown",
      "metadata": {
        "id": "h8jyLrR-sbpl"
      },
      "source": [
        "1. The code loads an alumni dataset and selects specific features ('Education Major', 'Location City', 'Company Industry Name') for clustering.\n",
        "\n",
        "2. It preprocesses the numerical features by scaling them and the categorical features by one-hot encoding them. The preprocessing steps are combined into a pipeline.\n",
        "\n",
        "3. The K-Means clustering algorithm is applied to the preprocessed data, with the option to specify the number of clusters (in this case, 3). Cluster labels are added to the original dataset.\n",
        "\n",
        "4. Principal Component Analysis (PCA) is performed to reduce the dimensionality of the data to 2D for visualization.\n",
        "\n",
        "5. A scatter plot is created to visualize the clusters in 2D space using the first two principal components (PCA1 and PCA2).\n",
        "\n",
        "The code combines preprocessing, clustering, and visualization to explore clusters within the dataset based on selected features."
      ]
    },
    {
      "cell_type": "code",
      "execution_count": null,
      "metadata": {
        "colab": {
          "base_uri": "https://localhost:8080/",
          "height": 619
        },
        "id": "AcoipNPrGZSd",
        "outputId": "e79ed5fa-b1eb-4d72-feb4-574fa48ded65"
      },
      "outputs": [],
      "source": [
        "import pandas as pd\n",
        "from sklearn.cluster import KMeans\n",
        "from sklearn.preprocessing import StandardScaler, LabelEncoder, OneHotEncoder\n",
        "from sklearn.compose import ColumnTransformer\n",
        "from sklearn.pipeline import Pipeline\n",
        "from sklearn.metrics import silhouette_score\n",
        "from sklearn.decomposition import PCA\n",
        "import matplotlib.pyplot as plt\n",
        "\n",
        "# Load your alumni dataset\n",
        "# data = pd.read_csv(url)\n",
        "\n",
        "# Select the relevant features for clustering (e.g., 'Education Major', 'Location City', 'Company Industry Name')\n",
        "selected_features_for_clustering = df[['Education Major', 'Location City', 'Company Industry Name']]\n",
        "\n",
        "# Preprocessing for numerical and categorical features\n",
        "numerical_features = selected_features_for_clustering.select_dtypes(include=['int64', 'float64']).columns\n",
        "categorical_features = selected_features_for_clustering.select_dtypes(include=['object']).columns\n",
        "\n",
        "# Create a preprocessing pipeline for numerical and categorical features\n",
        "numeric_transformer = Pipeline(steps=[\n",
        "    ('scaler', StandardScaler())])\n",
        "\n",
        "categorical_transformer = Pipeline(steps=[\n",
        "    ('onehot', OneHotEncoder(handle_unknown='ignore'))])\n",
        "\n",
        "preprocessor = ColumnTransformer(\n",
        "    transformers=[\n",
        "        ('num', numeric_transformer, numerical_features),\n",
        "        ('cat', categorical_transformer, categorical_features)])\n",
        "\n",
        "# Combine preprocessing with clustering using K-Means\n",
        "pipeline = Pipeline(steps=[('preprocessor', preprocessor),\n",
        "                           ('clusterer', KMeans(n_clusters=3, random_state=42))])  # You can specify the number of clusters\n",
        "\n",
        "# Fit the pipeline to your data\n",
        "pipeline.fit(selected_features_for_clustering)\n",
        "\n",
        "# Add cluster labels to the original dataset\n",
        "df['Cluster'] = pipeline.named_steps['clusterer'].labels_\n",
        "\n",
        "# Perform PCA to reduce dimensions for visualization (2D)\n",
        "pca = PCA(n_components=2)\n",
        "reduced_features = pca.fit_transform(pipeline.transform(selected_features_for_clustering))\n",
        "\n",
        "# Add reduced features to the dataset for visualization\n",
        "df['PCA1'] = reduced_features[:, 0]\n",
        "df['PCA2'] = reduced_features[:, 1]\n",
        "\n",
        "# Create a scatter plot to visualize the clusters with cluster labels\n",
        "plt.figure(figsize=(10, 6))\n",
        "cluster_names = {\n",
        "    0: \"Technology Innovators\",\n",
        "    1: \"Business Leaders\",\n",
        "    2: \"Academic Professionals\"\n",
        "}\n",
        "\n",
        "for cluster, name in cluster_names.items():\n",
        "    cluster_data = df[df['Cluster'] == cluster]\n",
        "    plt.scatter(cluster_data['PCA1'], cluster_data['PCA2'], label=name, alpha=0.6)\n",
        "\n",
        "plt.title('Cluster Visualization')\n",
        "plt.xlabel('PCA1')\n",
        "plt.ylabel('PCA2')\n",
        "plt.legend()\n",
        "plt.grid(True)\n",
        "plt.show()\n",
        "\n"
      ]
    },
    {
      "cell_type": "markdown",
      "metadata": {
        "id": "CE3CZGA5vBVy"
      },
      "source": [
        "## **2. Classification**"
      ]
    },
    {
      "cell_type": "markdown",
      "metadata": {
        "id": "3h2CCyMTXdwL"
      },
      "source": [
        "### **Classification of Job Industry Based on Education Degree and Education Major**"
      ]
    },
    {
      "cell_type": "markdown",
      "metadata": {
        "id": "1CUEJdkrrrsD"
      },
      "source": [
        "This Python code accomplishes the following tasks:\n",
        "\n",
        "1. Combines 'Education Degree' and 'Education Major' columns into a single feature named 'Education Combination' to create input data for text classification.\n",
        "\n",
        "2. Assigns labels to industry categories ('Company Industry Name') by factorizing them, effectively converting them into numerical target values.\n",
        "\n",
        "3. Splits the data into training and testing sets, with 99.5% of the data used for training and 0.5% for testing.\n",
        "\n",
        "4. Utilizes TF-IDF vectorization to convert the textual 'Education Combination' data into numerical features for both the training and testing datasets.\n",
        "\n",
        "5. Trains a Random Forest classifier with 100 estimators and a fixed random state for reproducibility.\n",
        "\n",
        "6. Predicts industry categories for the test data using the trained classifier.\n",
        "\n",
        "The 'target_names' variable is used to store the unique industry names/classes from the dataset, which can be helpful for interpreting the classification report and understanding the different industry categories predicted by the model."
      ]
    },
    {
      "cell_type": "code",
      "execution_count": null,
      "metadata": {
        "id": "3rDL-Kv0IBQF"
      },
      "outputs": [],
      "source": [
        "import pandas as pd\n",
        "from sklearn.model_selection import train_test_split\n",
        "from sklearn.feature_extraction.text import TfidfVectorizer\n",
        "from sklearn.ensemble import RandomForestClassifier\n",
        "from sklearn.metrics import classification_report\n",
        "\n",
        "# Load your alumni dataset\n",
        "# data = pd.read_csv(url)\n",
        "\n",
        "# Combine 'Education Degree' and 'Education Major' into 'Education Combination'\n",
        "df['Education Combination'] = df['Education Degree'].fillna('') + ' ' + df['Education Major'].fillna('')\n",
        "\n",
        "# Assign labels to industry categories (classes)\n",
        "df['Industry Category'] = pd.factorize(df['Company Industry Name'])[0]\n",
        "\n",
        "# Split data into training and testing sets\n",
        "X_train, X_test, y_train, y_test = train_test_split(df['Education Combination'], df['Industry Category'], test_size=0.005, random_state=42)\n",
        "\n",
        "# TF-IDF vectorization\n",
        "tfidf_vectorizer = TfidfVectorizer(max_features=5000, stop_words='english')\n",
        "X_train_tfidf = tfidf_vectorizer.fit_transform(X_train.astype(str))  # Convert to string to handle NaN values\n",
        "X_test_tfidf = tfidf_vectorizer.transform(X_test.astype(str))  # Convert to string to handle NaN values\n",
        "\n",
        "# Train a Random Forest classifier\n",
        "clf = RandomForestClassifier(n_estimators=100, random_state=42)\n",
        "clf.fit(X_train_tfidf, y_train)\n",
        "\n",
        "# Predict industry categories for test data\n",
        "y_pred = clf.predict(X_test_tfidf)\n",
        "\n",
        "# Ensure that 'target_names' contains the correct unique industry names/classes from your dataset\n",
        "target_names = df['Company Industry Name'].unique()"
      ]
    },
    {
      "cell_type": "code",
      "execution_count": null,
      "metadata": {
        "colab": {
          "base_uri": "https://localhost:8080/"
        },
        "id": "PqGcrsolSAIE",
        "outputId": "59ec22f7-3fb4-4f00-f2d4-64fd0e7b8624"
      },
      "outputs": [],
      "source": [
        "df['Company Industry Name'].value_counts()"
      ]
    },
    {
      "cell_type": "code",
      "execution_count": null,
      "metadata": {
        "colab": {
          "base_uri": "https://localhost:8080/"
        },
        "id": "nPWYIUH4RtRd",
        "outputId": "f56d5a82-e9a7-4f41-e666-96e59096c793"
      },
      "outputs": [],
      "source": [
        "df['Education Degree'].value_counts()"
      ]
    },
    {
      "cell_type": "code",
      "execution_count": null,
      "metadata": {
        "colab": {
          "base_uri": "https://localhost:8080/"
        },
        "id": "hgcfsfwuQN6T",
        "outputId": "e049c4d5-b5a6-42c7-d2c2-80fa88651e30"
      },
      "outputs": [],
      "source": [
        "# Assuming you have a single job title to classify\n",
        "single_job_title = \"Arts Bachelor's Degree\"\n",
        "\n",
        "# Preprocess and vectorize the single value\n",
        "preprocessed_value = single_job_title  # You should preprocess it similarly to your training data\n",
        "vectorized_value = tfidf_vectorizer.transform([preprocessed_value])\n",
        "\n",
        "# Make predictions using the trained classifier\n",
        "predicted_class = clf.predict(vectorized_value)\n",
        "\n",
        "# Convert the predicted class label back to the original industry name\n",
        "predicted_industry = target_names[predicted_class[0]]\n",
        "\n",
        "print(f\"Predicted Industry: {predicted_industry}\")\n"
      ]
    },
    {
      "cell_type": "markdown",
      "metadata": {
        "id": "1eJQ4lrIXPyl"
      },
      "source": [
        "### **Classification of Job Title based on Education Degree and Education Major**"
      ]
    },
    {
      "cell_type": "markdown",
      "metadata": {
        "id": "IiQpCK32qDEd"
      },
      "source": [
        "This Python code performs the following tasks:\n",
        "\n",
        "1. Combines 'Education Degree' and 'Education Major' columns into a single feature named 'Education Combination' to create input data for text classification.\n",
        "\n",
        "2. Assigns labels to job title categories ('Employment Title') by factorizing them, effectively converting them into numerical target values.\n",
        "\n",
        "3. Splits the data into training and testing sets, with 99.5% of the data used for training and 0.5% for testing.\n",
        "\n",
        "4. Utilizes TF-IDF vectorization to convert the textual 'Education Combination' data into numerical features for both the training and testing datasets.\n",
        "\n",
        "5. Trains a Random Forest classifier with 100 estimators and a fixed random state for reproducibility.\n",
        "\n",
        "6. Predicts job title categories for the test data using the trained classifier.\n",
        "\n"
      ]
    },
    {
      "cell_type": "code",
      "execution_count": null,
      "metadata": {
        "id": "tptdKk0YRQee"
      },
      "outputs": [],
      "source": [
        "import pandas as pd\n",
        "from sklearn.model_selection import train_test_split\n",
        "from sklearn.feature_extraction.text import TfidfVectorizer\n",
        "from sklearn.ensemble import RandomForestClassifier\n",
        "from sklearn.metrics import classification_report\n",
        "\n",
        "# Combine 'Education Degree' and 'Education Major' into 'Education Combination'\n",
        "df['Education Combination'] = df['Education Degree'].fillna('') + ' ' + df['Education Subject'].fillna('')\n",
        "\n",
        "# Assign labels to industry categories (classes)\n",
        "df['Job Title Category'] = pd.factorize(df['Employment Title'])[0]\n",
        "\n",
        "# Split data into training and testing sets\n",
        "X_train, X_test, y_train, y_test = train_test_split(df['Education Combination'], df['Job Title Category'], test_size=0.005, random_state=42)\n",
        "\n",
        "# TF-IDF vectorization\n",
        "tfidf_vectorizer = TfidfVectorizer(max_features=5000, stop_words='english')\n",
        "X_train_tfidf = tfidf_vectorizer.fit_transform(X_train.astype(str))  # Convert to string to handle NaN values\n",
        "X_test_tfidf = tfidf_vectorizer.transform(X_test.astype(str))  # Convert to string to handle NaN values\n",
        "\n",
        "# Train a Random Forest classifier\n",
        "clf = RandomForestClassifier(n_estimators=100, random_state=42)\n",
        "clf.fit(X_train_tfidf, y_train)\n",
        "\n",
        "# Predict industry categories for test data\n",
        "y_pred = clf.predict(X_test_tfidf)"
      ]
    },
    {
      "cell_type": "code",
      "execution_count": null,
      "metadata": {
        "id": "ejdn6e4uTJjJ"
      },
      "outputs": [],
      "source": [
        "# Ensure that 'target_names' contains the correct unique industry names/classes from your dataset\n",
        "target_names = df['Employment Title'].unique()"
      ]
    },
    {
      "cell_type": "code",
      "execution_count": null,
      "metadata": {
        "colab": {
          "base_uri": "https://localhost:8080/"
        },
        "id": "dy-_5v3cSOF2",
        "outputId": "6897fbcc-5312-4719-bf58-f77d165f6ee9"
      },
      "outputs": [],
      "source": [
        "# Assuming you have a single job title to classify\n",
        "single_job_title = \"Bachelor's Degree on Communication\"\n",
        "\n",
        "# Preprocess and vectorize the single value\n",
        "preprocessed_value = single_job_title  # You should preprocess it similarly to your training data\n",
        "vectorized_value = tfidf_vectorizer.transform([preprocessed_value])\n",
        "\n",
        "# Make predictions using the trained classifier\n",
        "predicted_class = clf.predict(vectorized_value)\n",
        "\n",
        "# Convert the predicted class label back to the original industry name\n",
        "predicted_industry = target_names[predicted_class[0]]\n",
        "\n",
        "print(f\"Predicted Title: {predicted_industry}\")\n"
      ]
    },
    {
      "cell_type": "markdown",
      "metadata": {
        "id": "CguZF43kVazi"
      },
      "source": [
        "### **Classification of Industry based on Location and Education Degree and Education Major**"
      ]
    },
    {
      "cell_type": "markdown",
      "metadata": {
        "id": "v_Be_W5spYQP"
      },
      "source": [
        "This Python code performs the following tasks:\n",
        "\n",
        "1. Combines relevant features (Location City, Location State, Location Country, Education Degree, and Education Major) into a single feature called 'Education Combination' to create input data for text classification.\n",
        "\n",
        "2. Trains a Random Forest classifier to predict industry categories based on the 'Education Combination' feature. It uses TF-IDF vectorization to convert text data into numerical features for both training and testing datasets.\n",
        "\n",
        "3. Evaluates the classifier's performance by generating a classification report, which includes metrics such as precision, recall, and F1-score, for each industry category.\n",
        "\n",
        "4. Ensure that 'target_names' contains the correct unique industry names/classes from the dataset for classification reporting."
      ]
    },
    {
      "cell_type": "code",
      "execution_count": null,
      "metadata": {
        "id": "CE8OOMaiSfaI"
      },
      "outputs": [],
      "source": [
        "import pandas as pd\n",
        "from sklearn.model_selection import train_test_split\n",
        "from sklearn.feature_extraction.text import TfidfVectorizer\n",
        "from sklearn.ensemble import RandomForestClassifier\n",
        "from sklearn.metrics import classification_report\n",
        "\n",
        "# Combine 'Education Degree' and 'Education Major' into 'Education Combination'\n",
        "df['Education Combination'] = df['Location City'].fillna('') + ' ' + df['Location State'].fillna('') + ' ' + df['Location Country'].fillna('') + ' ' + df['Education Degree'].fillna('') + ' ' + df['Education Major'].fillna('')\n",
        "\n",
        "# Assign labels to industry categories (classes)\n",
        "df['Industry Category'] = pd.factorize(df['Company Industry Name'])[0]\n",
        "\n",
        "# Split data into training and testing sets\n",
        "X_train, X_test, y_train, y_test = train_test_split(df['Education Combination'], df['Industry Category'], test_size=0.005, random_state=42)\n",
        "\n",
        "# TF-IDF vectorization\n",
        "tfidf_vectorizer = TfidfVectorizer(max_features=5000, stop_words='english')\n",
        "X_train_tfidf = tfidf_vectorizer.fit_transform(X_train.astype(str))  # Convert to string to handle NaN values\n",
        "X_test_tfidf = tfidf_vectorizer.transform(X_test.astype(str))  # Convert to string to handle NaN values\n",
        "\n",
        "# Train a Random Forest classifier\n",
        "clf = RandomForestClassifier(n_estimators=100, random_state=42)\n",
        "clf.fit(X_train_tfidf, y_train)\n",
        "\n",
        "# Predict industry categories for test data\n",
        "y_pred = clf.predict(X_test_tfidf)\n",
        "\n",
        "# Ensure that 'target_names' contains the correct unique industry names/classes from your dataset\n",
        "target_names = df['Company Industry Name'].unique()"
      ]
    },
    {
      "cell_type": "code",
      "execution_count": null,
      "metadata": {
        "colab": {
          "base_uri": "https://localhost:8080/"
        },
        "id": "-kwC0Fz3WEdD",
        "outputId": "d9c2bbb2-d7c5-4989-c7e2-583476dcb495"
      },
      "outputs": [],
      "source": [
        "# Assuming you have a single job title to classify\n",
        "single_job_title = \"Sydney, New South Wales, Australia, Bachelor's Degree on Medicine\"\n",
        "\n",
        "# Preprocess and vectorize the single value\n",
        "preprocessed_value = single_job_title  # You should preprocess it similarly to your training data\n",
        "vectorized_value = tfidf_vectorizer.transform([preprocessed_value])\n",
        "\n",
        "# Make predictions using the trained classifier\n",
        "predicted_class = clf.predict(vectorized_value)\n",
        "\n",
        "# Convert the predicted class label back to the original industry name\n",
        "predicted_industry = target_names[predicted_class[0]]\n",
        "\n",
        "print(f\"Predicted Industry: {predicted_industry}\")\n"
      ]
    },
    {
      "cell_type": "markdown",
      "metadata": {
        "id": "zWIffrNIbgCp"
      },
      "source": [
        "### **3. Recommendation System**"
      ]
    },
    {
      "cell_type": "markdown",
      "metadata": {
        "id": "AFnxhIYlpFQj"
      },
      "source": [
        "This Python code recommends job titles from an alumni dataset based on user input for their education combination (degree and subject). It utilizes TF-IDF vectorization and cosine similarity to calculate similarity scores between the user's profile and job profiles. The top 5 recommended jobs, along with their associated companies and similarity scores, are displayed as output."
      ]
    },
    {
      "cell_type": "code",
      "execution_count": null,
      "metadata": {
        "colab": {
          "base_uri": "https://localhost:8080/"
        },
        "id": "AVK5VMk1cO0h",
        "outputId": "61b96b07-13f5-4aa8-c2ab-23e8ecf45d4d"
      },
      "outputs": [],
      "source": [
        "import pandas as pd\n",
        "from sklearn.feature_extraction.text import TfidfVectorizer\n",
        "from sklearn.metrics.pairwise import cosine_similarity\n",
        "\n",
        "# Preprocess the data and combine relevant features (e.g., Education Degree and Major)\n",
        "df['Education Combination'] = df['Education Degree'].fillna('') + ' ' + df['Education Subject'].fillna('')\n",
        "\n",
        "# -------------------------Create user profile (customize this based on user input)---------------------------------------------\n",
        "user_profile = {\n",
        "    'Education Combination': 'Bachelor of Commercial'  # Example user profile\n",
        "}\n",
        "\n",
        "# TF-IDF vectorization\n",
        "tfidf_vectorizer = TfidfVectorizer(stop_words='english')\n",
        "tfidf_matrix = tfidf_vectorizer.fit_transform(df['Education Combination'])\n",
        "\n",
        "# Vectorize the user profile\n",
        "user_vector = tfidf_vectorizer.transform([user_profile['Education Combination']])\n",
        "\n",
        "# Calculate cosine similarity between user profile and job profiles\n",
        "cosine_sim = cosine_similarity(user_vector, tfidf_matrix)\n",
        "\n",
        "# Get recommended job indices based on similarity scores\n",
        "similar_jobs = list(enumerate(cosine_sim[0]))\n",
        "sorted_jobs = sorted(similar_jobs, key=lambda x: x[1], reverse=True)\n",
        "\n",
        "# Display the top recommended jobs (you can adjust the number of recommendations)\n",
        "top_recommendations = sorted_jobs[:5]  # Here, we recommend the top 5 jobs\n",
        "for job_idx, similarity_score in top_recommendations:\n",
        "    print(f'Job Title: {df[\"Employment Title\"][job_idx]}')\n",
        "    print(f'Company: {df[\"Employment Company Name\"][job_idx]}')\n",
        "    print(f'Similarity Score: {similarity_score:.2f}')\n",
        "    print('-' * 40)\n"
      ]
    },
    {
      "cell_type": "markdown",
      "metadata": {
        "id": "KwiOEf9YeYA_"
      },
      "source": [
        "### **Analyze employment titles using NLP techniques to identify common keywords, skills, or qualifications associated with specific job roles.**"
      ]
    },
    {
      "cell_type": "markdown",
      "metadata": {
        "id": "nDYelvmVojRY"
      },
      "source": [
        "This Python code preprocesses employment titles from a dataset by tokenizing, lowercasing, and removing stopwords. It then performs topic modeling using Latent Dirichlet Allocation (LDA) and visualizes the distribution of topics for a specific job role, allowing you to analyze the most relevant topics associated with that role.\n",
        "\n",
        "Please replace the \"job_role\" variable with the specific job title you want to analyze to see its topic distribution."
      ]
    },
    {
      "cell_type": "code",
      "execution_count": null,
      "metadata": {
        "colab": {
          "base_uri": "https://localhost:8080/",
          "height": 628
        },
        "id": "dP7B67wbcRJh",
        "outputId": "c92b4191-41b1-4914-cb8e-313e0bc886ac"
      },
      "outputs": [],
      "source": [
        "import pandas as pd\n",
        "import numpy as np\n",
        "import nltk\n",
        "from nltk.corpus import stopwords\n",
        "from sklearn.feature_extraction.text import TfidfVectorizer\n",
        "from sklearn.decomposition import LatentDirichletAllocation\n",
        "import matplotlib.pyplot as plt\n",
        "import nltk\n",
        "nltk.download('stopwords')\n",
        "import nltk\n",
        "nltk.download('punkt')\n",
        "\n",
        "# # Load your dataset\n",
        "# data = pd.read_csv(url)\n",
        "\n",
        "# Preprocess the employment titles\n",
        "stop_words = set(stopwords.words('english'))  # NLTK stopwords\n",
        "\n",
        "# Tokenize and preprocess the titles\n",
        "def preprocess_title(title):\n",
        "    tokens = nltk.word_tokenize(title.lower())  # Tokenization and lowercase\n",
        "    tokens = [t for t in tokens if t.isalpha() and t not in stop_words]  # Remove non-alphabetic and stopwords\n",
        "    return \" \".join(tokens)\n",
        "\n",
        "df['Processed Title'] = df['Employment Title'].apply(preprocess_title)\n",
        "\n",
        "# TF-IDF Vectorization\n",
        "tfidf_vectorizer = TfidfVectorizer(max_features=1000, max_df=0.85)\n",
        "tfidf_matrix = tfidf_vectorizer.fit_transform(df['Processed Title'])\n",
        "\n",
        "# Topic Modeling using LDA\n",
        "num_topics = 5  # You can adjust this number\n",
        "lda = LatentDirichletAllocation(n_components=num_topics, random_state=42)\n",
        "lda.fit(tfidf_matrix)\n",
        "\n",
        "# Get top keywords for each topic\n",
        "def get_top_keywords(model, feature_names, n_words=10):\n",
        "    topic_keywords = []\n",
        "    for topic_idx, topic in enumerate(model.components_):\n",
        "        top_keywords_idx = topic.argsort()[:-n_words - 1:-1]\n",
        "        top_keywords = [feature_names[i] for i in top_keywords_idx]\n",
        "        topic_keywords.append(top_keywords)\n",
        "    return topic_keywords\n",
        "\n",
        "feature_names = tfidf_vectorizer.get_feature_names_out()\n",
        "topic_keywords = get_top_keywords(lda, feature_names)\n",
        "\n",
        "# Visualize top keywords for each topic\n",
        "for i, keywords in enumerate(topic_keywords):\n",
        "    print(f\"Keyword Topic {i + 1}: {', '.join(keywords)}\")\n",
        "\n",
        "# Plot the distribution of topics\n",
        "topic_distribution = lda.transform(tfidf_matrix)\n",
        "topic_distribution_df = pd.DataFrame(topic_distribution, columns=[f'Topic {i}' for i in range(1, num_topics + 1)])\n",
        "df = pd.concat([df, topic_distribution_df], axis=1)\n",
        "\n",
        "\n",
        "\n",
        "\n",
        "# --------------------------------Replace with the job role you want to analyze-----------------------------------------\n",
        "job_role = \"Program Manager\"\n",
        "\n",
        "\n",
        "\n",
        "# Plot the distribution of topics for a specific job role\n",
        "job_data = df[df['Employment Title'] == job_role]\n",
        "topic_weights = job_data.iloc[:, -num_topics:]  # Extract topic weights for the job role\n",
        "topic_weights = topic_weights.mean()  # Calculate mean weights across job instances\n",
        "plt.bar(range(1, num_topics + 1), topic_weights)\n",
        "plt.xlabel('Keyword Topic')\n",
        "plt.ylabel('Topic Weight')\n",
        "plt.title(f'Topic Distribution for {job_role}')\n",
        "plt.show()\n"
      ]
    },
    {
      "cell_type": "markdown",
      "metadata": {
        "id": "_Za3gT6vhwf7"
      },
      "source": [
        "### **Company Type Classification**"
      ]
    },
    {
      "cell_type": "markdown",
      "metadata": {
        "id": "C-rTPjmzoVuv"
      },
      "source": [
        "This Python code uses a Random Forest classifier to predict \"Company Type\" based on various features from an alumni dataset. It handles missing values by filling them with 'Unknown,' encodes categorical variables, and achieves classification performance evaluation with a classification report."
      ]
    },
    {
      "cell_type": "code",
      "execution_count": null,
      "metadata": {
        "colab": {
          "base_uri": "https://localhost:8080/"
        },
        "id": "2CGwdUwyeb4g",
        "outputId": "51ac9553-b69c-44df-8daf-27cf05c9ae1e"
      },
      "outputs": [],
      "source": [
        "import pandas as pd\n",
        "from sklearn.model_selection import train_test_split\n",
        "from sklearn.preprocessing import LabelEncoder\n",
        "from sklearn.ensemble import RandomForestClassifier\n",
        "from sklearn.metrics import classification_report\n",
        "\n",
        "# # Load your alumni dataset\n",
        "# data = pd.read_csv(url)\n",
        "\n",
        "# Data preprocessing\n",
        "# Handle missing values by filling them with 'Unknown' for categorical columns\n",
        "categorical_columns = ['Education Degree', 'Education Subject', 'Location City', 'Location State', 'Location Country', 'Company Industry Name', 'Company Details Size', 'Company Type']\n",
        "df[categorical_columns] = df[categorical_columns].fillna('Unknown')\n",
        "\n",
        "# Select features and target variable\n",
        "features = ['Education Degree', 'Education Subject', 'Location City', 'Location State', 'Location Country', 'Company Industry Name', 'Company Details Size']\n",
        "target = 'Company Type'\n",
        "\n",
        "# Encode categorical variables\n",
        "label_encoders = {}\n",
        "for feature in features:\n",
        "    label_encoders[feature] = LabelEncoder()\n",
        "    df[feature] = label_encoders[feature].fit_transform(df[feature])\n",
        "\n",
        "# Split data into training and testing sets\n",
        "X = df[features]\n",
        "y = df[target]\n",
        "X_train, X_test, y_train, y_test = train_test_split(X, y, test_size=0.2, random_state=42)\n",
        "\n",
        "# Choose and train a classification model (Random Forest in this example)\n",
        "clf = RandomForestClassifier(n_estimators=100, random_state=42)\n",
        "clf.fit(X_train, y_train)\n",
        "\n",
        "# Make predictions on the testing data\n",
        "y_pred = clf.predict(X_test)\n",
        "\n",
        "# Evaluate the model's performance\n",
        "classification_rep = classification_report(y_test, y_pred)\n",
        "print('Classification Report:\\n', classification_rep)\n",
        "\n"
      ]
    },
    {
      "cell_type": "code",
      "execution_count": null,
      "metadata": {
        "colab": {
          "base_uri": "https://localhost:8080/"
        },
        "id": "DQpRaHoxh3cb",
        "outputId": "a418d368-30d0-43a6-e4b2-e42471b7edf5"
      },
      "outputs": [],
      "source": [
        "# Example: Predict the Company Type for a single data point\n",
        "single_data_point = {\n",
        "    'Education Degree': 'Master\\'s Degree',\n",
        "    'Education Subject': 'Computer Science',\n",
        "    'Location City': 'Sydney',\n",
        "    'Location State': 'New South Wales',\n",
        "    'Location Country': 'Australia',\n",
        "    'Company Industry Name': 'Information Technology and Services',\n",
        "    'Company Details Size': '1001-5000 employees'\n",
        "}\n",
        "single_data_df = pd.DataFrame([single_data_point])\n",
        "for feature in features:\n",
        "    single_data_df[feature] = label_encoders[feature].transform(single_data_df[feature])\n",
        "\n",
        "predicted_company_type = clf.predict(single_data_df[features])\n",
        "print(f\"Predicted Company Type: {predicted_company_type[0]}\")\n"
      ]
    },
    {
      "cell_type": "markdown",
      "metadata": {
        "id": "hs4rE56NPCFe"
      },
      "source": [
        "## **4. Trend analysis**"
      ]
    },
    {
      "cell_type": "markdown",
      "metadata": {
        "id": "s7ykUWYRoIc7"
      },
      "source": [
        "This Python code utilizes the Facebook Prophet library to forecast trends in the \"Employment Start Year\" column of a dataset. It renames the columns for compatibility with Prophet, initializes the model, fits it to the data, and creates a future dataframe for predictions. Finally, it plots the historical and forecasted trends over a specified period (here, the next 5 years) for visual analysis of employment start years."
      ]
    },
    {
      "cell_type": "code",
      "execution_count": null,
      "metadata": {
        "colab": {
          "base_uri": "https://localhost:8080/",
          "height": 927
        },
        "id": "kTSkjbAMIL_E",
        "outputId": "6491b3db-5f18-41d7-8ecf-ada846db36ba"
      },
      "outputs": [],
      "source": [
        "import pandas as pd\n",
        "# !pip install fbprophet\n",
        "from prophet import Prophet\n",
        "import matplotlib.pyplot as plt\n",
        "\n",
        "# # Load your dataset into a pandas DataFrame\n",
        "# data = pd.read_csv(url)\n",
        "\n",
        "# Rename columns for Prophet compatibility\n",
        "df.rename(columns={'Employment Captured Date': 'ds', 'Employment Start Year': 'y'}, inplace=True)\n",
        "\n",
        "# Initialize Prophet model\n",
        "model = Prophet()\n",
        "\n",
        "# Fit the model to your data\n",
        "model.fit(df)\n",
        "\n",
        "# Create a future dataframe for prediction (e.g., forecasting for the next 5 years)\n",
        "future = model.make_future_dataframe(periods=5, freq='Y')\n",
        "\n",
        "# Make predictions\n",
        "forecast = model.predict(future)\n",
        "\n",
        "# Plot the historical and forecasted trend\n",
        "fig = model.plot(forecast)\n",
        "plt.xlabel('Year')\n",
        "plt.ylabel('Employment Start Year')\n",
        "plt.title('Trend Forecast for Employment Start Year')\n",
        "plt.show()\n"
      ]
    },
    {
      "cell_type": "code",
      "execution_count": null,
      "metadata": {
        "colab": {
          "base_uri": "https://localhost:8080/"
        },
        "id": "3sgRvqrlITJo",
        "outputId": "59b8a1f1-300d-4b96-a6c4-01293f6f8cb8"
      },
      "outputs": [],
      "source": [
        "df['Company Industry Name'].value_counts().head()"
      ]
    },
    {
      "cell_type": "markdown",
      "metadata": {
        "id": "zTpgYRysnA4-"
      },
      "source": [
        "### **Trends of Selected industries over Time**"
      ]
    },
    {
      "cell_type": "markdown",
      "metadata": {
        "id": "JvpQOYPNnG3t"
      },
      "source": [
        "\n",
        "This code provides a clear visual representation of trends in the selected industries over time, allowing us to identify which industries have seen growth or decline in terms of employment counts."
      ]
    },
    {
      "cell_type": "code",
      "execution_count": null,
      "metadata": {
        "colab": {
          "base_uri": "https://localhost:8080/"
        },
        "id": "xh70TxoOjq9a",
        "outputId": "229d515d-fd0e-48ad-cf05-7e2bd592dabf"
      },
      "outputs": [],
      "source": [
        "\n",
        "from google.colab import drive\n",
        "\n",
        "drive.mount('/content/drive')\n",
        "\n",
        "import pandas as pd\n",
        "\n",
        "df = pd.read_csv('/content/drive/My Drive/alumni_dataset_2.csv')"
      ]
    },
    {
      "cell_type": "code",
      "execution_count": null,
      "metadata": {
        "colab": {
          "base_uri": "https://localhost:8080/",
          "height": 619
        },
        "id": "XK_Q2U-1iLTA",
        "outputId": "a4b1a90a-5027-4a73-d791-b99ff1e14b93"
      },
      "outputs": [],
      "source": [
        "import pandas as pd\n",
        "import matplotlib.pyplot as plt\n",
        "\n",
        "\n",
        "\n",
        "# Ensure 'Employment Captured Date' is in datetime format\n",
        "df['Employment Captured Date'] = pd.to_datetime(df['Employment Captured Date'])\n",
        "\n",
        "# Extract year from 'Employment Captured Date'\n",
        "df['Year'] = df['Employment Captured Date'].dt.year\n",
        "\n",
        "# Group by 'Year' and 'Company Industry Name' and count the number of records\n",
        "industry_counts = df.groupby(['Year', 'Company Industry Name']).size().reset_index(name='Counts')\n",
        "\n",
        "# Pivot the data for better visualization\n",
        "pivot_table = industry_counts.pivot(index='Year', columns='Company Industry Name', values='Counts')\n",
        "\n",
        "# Plot the trends for selected industries\n",
        "selected_industries = ['Hospital & Health Care', 'Higher Education', 'Government Administration', 'Financial Services', 'Construction']  # Replace with your industry names\n",
        "pivot_table[selected_industries].plot(kind='line', marker='o', figsize=(12, 6))\n",
        "plt.title('Trends in Selected Industries Over Time')\n",
        "plt.xlabel('Year')\n",
        "plt.ylabel('Employment Count')\n",
        "plt.legend(loc='upper left')\n",
        "plt.grid(True)\n",
        "plt.show()\n"
      ]
    },
    {
      "cell_type": "code",
      "execution_count": null,
      "metadata": {
        "id": "QfUWMq7jwxY-"
      },
      "outputs": [],
      "source": []
    }
  ],
  "metadata": {
    "colab": {
      "provenance": []
    },
    "kernelspec": {
      "display_name": "env",
      "language": "python",
      "name": "python3"
    },
    "language_info": {
      "codemirror_mode": {
        "name": "ipython",
        "version": 3
      },
      "file_extension": ".py",
      "mimetype": "text/x-python",
      "name": "python",
      "nbconvert_exporter": "python",
      "pygments_lexer": "ipython3",
      "version": "3.10.12"
    }
  },
  "nbformat": 4,
  "nbformat_minor": 0
}
