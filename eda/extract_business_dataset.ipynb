{
 "cells": [
  {
   "cell_type": "code",
   "execution_count": 1,
   "metadata": {},
   "outputs": [],
   "source": [
    "import pandas as pd"
   ]
  },
  {
   "cell_type": "code",
   "execution_count": 7,
   "metadata": {},
   "outputs": [
    {
     "name": "stdout",
     "output_type": "stream",
     "text": [
      "Dataset created successfully!\n"
     ]
    }
   ],
   "source": [
    "url =\"../datasets/alumni_dataset_1290.csv\"\n",
    "df = pd.read_csv(url)\n",
    "\n",
    "# Filter rows where 'Education Subject' contains the word 'Business'\n",
    "business_df = df[df['Education Subject'].str.contains('Business', case=False, na=False)]\n",
    "\n",
    "# Save the filtered dataset to a new CSV file\n",
    "business_df.to_csv('../datasets/business_dataset.csv', index=False)\n",
    "\n",
    "print(\"Dataset created successfully!\")\n"
   ]
  },
  {
   "cell_type": "code",
   "execution_count": null,
   "metadata": {},
   "outputs": [],
   "source": []
  }
 ],
 "metadata": {
  "kernelspec": {
   "display_name": "env",
   "language": "python",
   "name": "python3"
  },
  "language_info": {
   "codemirror_mode": {
    "name": "ipython",
    "version": 3
   },
   "file_extension": ".py",
   "mimetype": "text/x-python",
   "name": "python",
   "nbconvert_exporter": "python",
   "pygments_lexer": "ipython3",
   "version": "3.12.3"
  }
 },
 "nbformat": 4,
 "nbformat_minor": 2
}
